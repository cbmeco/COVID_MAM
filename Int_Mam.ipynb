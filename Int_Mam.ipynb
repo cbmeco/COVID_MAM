{
 "cells": [
  {
   "cell_type": "code",
   "execution_count": 1,
   "metadata": {},
   "outputs": [],
   "source": [
    "import pandas as pd\n",
    "import os\n",
    "import numpy as np\n",
    "from datetime import datetime, timedelta"
   ]
  },
  {
   "cell_type": "code",
   "execution_count": null,
   "metadata": {},
   "outputs": [],
   "source": []
  },
  {
   "cell_type": "code",
   "execution_count": 2,
   "metadata": {},
   "outputs": [
    {
     "name": "stdout",
     "output_type": "stream",
     "text": [
      "2020-07-22\n",
      "2020-07-16\n",
      "2020-07-15\n",
      "2020-07-09\n"
     ]
    }
   ],
   "source": [
    "#SET DATE FILTERS & FileName\n",
    "\n",
    "file = \"Int_MAM_July23.csv\"\n",
    "start = datetime(2020,7,22)\n",
    "start =start.strftime('%Y-%m-%d')\n",
    "\n",
    "end = datetime.strptime(start, \"%Y-%m-%d\") - timedelta(days=6)\n",
    "end = end.strftime('%Y-%m-%d')\n",
    "\n",
    "start14 = datetime.strptime(start,\"%Y-%m-%d\") - timedelta(days=13)\n",
    "start14 = start14.strftime('%Y-%m-%d')\n",
    "\n",
    "startPW = datetime.strptime(start,\"%Y-%m-%d\") - timedelta(days=7)\n",
    "startPW = startPW.strftime('%Y-%m-%d')\n",
    "\n",
    "print(start)\n",
    "print(end)\n",
    "print(startPW)\n",
    "print(start14)"
   ]
  },
  {
   "cell_type": "code",
   "execution_count": 3,
   "metadata": {},
   "outputs": [],
   "source": [
    "int_df = pd.read_csv(\"https://raw.githubusercontent.com/owid/covid-19-data/master/public/data/owid-covid-data.csv\")"
   ]
  },
  {
   "cell_type": "code",
   "execution_count": 4,
   "metadata": {},
   "outputs": [],
   "source": [
    "#Cases per 100k\n",
    "int_df['new_cases_100k'] = ((int_df['new_cases']/int_df['population'])*100000)\n",
    "int_df['prior_new_cases_100k'] = ((int_df['new_cases']/int_df['population'])*100000)\n",
    "int_df['active_cases_100k'] = ((int_df['new_cases']/int_df['population'])*100000)"
   ]
  },
  {
   "cell_type": "code",
   "execution_count": 5,
   "metadata": {},
   "outputs": [],
   "source": [
    "#Filter data set - 7day avg new cases\n",
    "range_7 = int_df[(int_df['date']<=start) & (int_df['date']>=end)]\n",
    "case_grouped_mean = range_7.groupby(['location'], as_index=False).mean()\n",
    "base = pd.DataFrame(case_grouped_mean[['location','new_cases_100k']])"
   ]
  },
  {
   "cell_type": "code",
   "execution_count": 6,
   "metadata": {},
   "outputs": [],
   "source": [
    "#Filter data set - active cases\n",
    "range_14 = int_df[(int_df['date']>=start14) & (int_df['date']<=start)]\n",
    "case_grouped_sum = range_14.groupby(['location'], as_index=False).sum()"
   ]
  },
  {
   "cell_type": "code",
   "execution_count": 7,
   "metadata": {},
   "outputs": [],
   "source": [
    "#Filter data set - prior week cases\n",
    "prior= int_df[(int_df['date']>=start14) & (int_df['date']<=startPW)]\n",
    "prior_grouped = prior.groupby(['location'], as_index=False).mean()"
   ]
  },
  {
   "cell_type": "code",
   "execution_count": 8,
   "metadata": {},
   "outputs": [],
   "source": [
    "int_mam1 = pd.merge(base,\n",
    "                 case_grouped_sum[['location','active_cases_100k']],\n",
    "                 on='location',\n",
    "                 how='left')"
   ]
  },
  {
   "cell_type": "code",
   "execution_count": 9,
   "metadata": {},
   "outputs": [
    {
     "name": "stdout",
     "output_type": "stream",
     "text": [
      "      location  new_cases_100k  active_cases_100k  prior_new_cases_100k  \\\n",
      "0  Afghanistan        0.362204           5.479298              0.420553   \n",
      "1      Albania        3.092640          43.505456              3.122425   \n",
      "2      Algeria        1.323311          16.873031              1.087122   \n",
      "3      Andorra        4.252526          37.533165              1.109355   \n",
      "4       Angola        0.097364           1.204883              0.074762   \n",
      "\n",
      "   wow_case_index  \n",
      "0       -0.138743  \n",
      "1       -0.009539  \n",
      "2        0.217261  \n",
      "3        2.833333  \n",
      "4        0.302326  \n"
     ]
    }
   ],
   "source": [
    "int_mam2 = pd.merge(int_mam1,\n",
    "                 prior_grouped[['location','prior_new_cases_100k']],\n",
    "                 on='location',\n",
    "                 how='left')\n",
    "\n",
    "int_mam2['wow_case_index'] = ((int_mam2['new_cases_100k']-int_mam2['prior_new_cases_100k'])/int_mam2['prior_new_cases_100k'])\n",
    "print(int_mam2.head())"
   ]
  },
  {
   "cell_type": "code",
   "execution_count": 13,
   "metadata": {},
   "outputs": [],
   "source": [
    "#Set ranges\n",
    "\n",
    "def curr7_hrvd(n):\n",
    "    if -222<=n< 2: score = 0\n",
    "    elif 2 <=n<10: score =1\n",
    "    elif 10 <=n<25: score =2\n",
    "    elif 25 <=n<=99999: score =3\n",
    "    else: score = 0\n",
    "    return(score)\n",
    "\n",
    "def roll_hrvd(n):\n",
    "    if -10000<=n<0.10: score = 0\n",
    "    elif 0.10<=n<=10000: score = 0.5  \n",
    "    else: score = 0\n",
    "    return(score)\n",
    "\n",
    "def county_hrvd(n):\n",
    "    if 0<=n<0.5: score = \"Minimal\"\n",
    "    elif 0.5<=n<1: score = \"Low\"\n",
    "    elif 1<=n<2: score = \"Moderate\"\n",
    "    elif 2<=n<3: score = \"Elevated\"\n",
    "    elif 3<=n<= 100: score = \"Critical\"\n",
    "    else: score = 0\n",
    "    return(score)"
   ]
  },
  {
   "cell_type": "code",
   "execution_count": 17,
   "metadata": {},
   "outputs": [
    {
     "name": "stdout",
     "output_type": "stream",
     "text": [
      "      location Country_Classification  new_cases_100k  wow_case_index  \\\n",
      "0  Afghanistan                Minimal        0.362204       -0.138743   \n",
      "1      Albania               Moderate        3.092640       -0.009539   \n",
      "2      Algeria                    Low        1.323311        0.217261   \n",
      "3      Andorra               Moderate        4.252526        2.833333   \n",
      "4       Angola                    Low        0.097364        0.302326   \n",
      "\n",
      "   active_cases_100k  \n",
      "0           5.479298  \n",
      "1          43.505456  \n",
      "2          16.873031  \n",
      "3          37.533165  \n",
      "4           1.204883  \n"
     ]
    }
   ],
   "source": [
    "int_mam2['new_case_score'] = int_mam2['new_cases_100k'].apply(curr7_hrvd)\n",
    "int_mam2['wow_score'] = int_mam2['wow_case_index'].apply(roll_hrvd)\n",
    "\n",
    "int_mam2['country_composite'] = (int_mam2['new_case_score']+int_mam2['wow_score'])\n",
    "\n",
    "int_mam2['Country_Classification'] = int_mam2['country_composite'].apply(county_hrvd)\n",
    "\n",
    "final_MAM = pd.DataFrame(int_mam2[['location','Country_Classification','new_cases_100k','wow_case_index','active_cases_100k']])\n",
    "print(final_MAM.head())"
   ]
  },
  {
   "cell_type": "code",
   "execution_count": 18,
   "metadata": {},
   "outputs": [],
   "source": [
    "#Spit out CSV\n",
    "final_MAM.to_csv(file, index=False) \n"
   ]
  },
  {
   "cell_type": "code",
   "execution_count": null,
   "metadata": {},
   "outputs": [],
   "source": []
  }
 ],
 "metadata": {
  "kernelspec": {
   "display_name": "Python 3",
   "language": "python",
   "name": "python3"
  },
  "language_info": {
   "codemirror_mode": {
    "name": "ipython",
    "version": 3
   },
   "file_extension": ".py",
   "mimetype": "text/x-python",
   "name": "python",
   "nbconvert_exporter": "python",
   "pygments_lexer": "ipython3",
   "version": "3.7.4"
  }
 },
 "nbformat": 4,
 "nbformat_minor": 2
}
