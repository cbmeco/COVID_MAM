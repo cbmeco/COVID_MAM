{
 "cells": [
  {
   "cell_type": "code",
   "execution_count": 4,
   "metadata": {},
   "outputs": [],
   "source": [
    "import os\n",
    "import numpy as np\n",
    "import pandas as pd\n",
    "import matplotlib.pyplot as plt\n",
    "import json\n",
    "import csv\n",
    "import pickle"
   ]
  },
  {
   "cell_type": "code",
   "execution_count": 5,
   "metadata": {},
   "outputs": [],
   "source": [
    "#SET DATE FILTERS\n",
    "\n",
    "prevalence = ['2020-06-21','2020-06-20','2020-06-19','2020-06-18','2020-06-17','2020-06-16','2020-06-15','2020-06-14','2020-06-13','2020-06-12',\n",
    "              '2020-06-11','2020-06-10','2020-06-09','2020-06-08']\n",
    "\n",
    "day7_current = ['2020-06-21','2020-06-20','2020-06-19','2020-06-18','2020-06-17','2020-06-16','2020-06-15',]\n",
    "\n",
    "day7_previous = ['2020-06-14','2020-06-13','2020-06-12',\n",
    "              '2020-06-11','2020-06-10','2020-06-09','2020-06-08']\n",
    "\n",
    "curr_test_start = [int(20200621)]\n",
    "curr_test_end = [int(20200615)]\n",
    "prev_test_start = [int(20200614)]\n",
    "prev_test_end = [int(20200608)]"
   ]
  },
  {
   "cell_type": "code",
   "execution_count": 6,
   "metadata": {},
   "outputs": [
    {
     "name": "stdout",
     "output_type": "stream",
     "text": [
      "         date       state  fips  cases  deaths\n",
      "0  2020-01-21  Washington    53      1       0\n",
      "1  2020-01-22  Washington    53      1       0\n",
      "2  2020-01-23  Washington    53      1       0\n",
      "3  2020-01-24    Illinois    17      1       0\n",
      "4  2020-01-24  Washington    53      1       0\n",
      "        State state_code  cc_ee's  state_pop  CAE  Cable Stores  \\\n",
      "0     Alabama         AL      407    4908621   65            40   \n",
      "1      Alaska         AK        0    3038999    0             0   \n",
      "2     Arizona         AZ      744    7378494  237            17   \n",
      "3    Arkansas         AR      117    3038999    1            13   \n",
      "4  California         CA     5022   39937489    0           491   \n",
      "\n",
      "   Business Services  Tech Ops  comcast_state  \n",
      "0                  9       178              1  \n",
      "1                  0         0              0  \n",
      "2                  5        87              1  \n",
      "3                  7        64              1  \n",
      "4                219      1997              1  \n"
     ]
    }
   ],
   "source": [
    "#Bring in state level NYT Data\n",
    "nytimes_state = \"https://raw.githubusercontent.com/nytimes/covid-19-data/master/us-states.csv\"\n",
    "state= pd.read_csv(nytimes_state)\n",
    "print(state.head())\n",
    "\n",
    "pop_df = pd.read_csv(\"state_base.csv\"\n",
    "                )\n",
    "\n",
    "print(pop_df.head())"
   ]
  },
  {
   "cell_type": "code",
   "execution_count": 7,
   "metadata": {},
   "outputs": [
    {
     "name": "stdout",
     "output_type": "stream",
     "text": [
      "           date    state  fips  cases  deaths    State\n",
      "586  2020-03-13  Alabama     1      6       0  Alabama\n",
      "637  2020-03-14  Alabama     1     12       0  Alabama\n",
      "689  2020-03-15  Alabama     1     23       0  Alabama\n",
      "742  2020-03-16  Alabama     1     29       0  Alabama\n",
      "795  2020-03-17  Alabama     1     39       0  Alabama\n",
      "           date    state  fips  cases  deaths    State  case_diff  death_diff\n",
      "586  2020-03-13  Alabama     1      6       0  Alabama        NaN         NaN\n",
      "637  2020-03-14  Alabama     1     12       0  Alabama        6.0         0.0\n",
      "689  2020-03-15  Alabama     1     23       0  Alabama       11.0         0.0\n",
      "742  2020-03-16  Alabama     1     29       0  Alabama        6.0         0.0\n",
      "795  2020-03-17  Alabama     1     39       0  Alabama       10.0         0.0\n"
     ]
    }
   ],
   "source": [
    "#Sort and create diff fields \n",
    "\n",
    "state['State'] = state['state']\n",
    "state.sort_values(by=['fips','date'],inplace=True, ascending=True)\n",
    "print(state.head())\n",
    "\n",
    "#Take difference between rows for new case and new death numbers\n",
    "state['case_diff'] = state.cases.diff()\n",
    "state['death_diff'] = state.deaths.diff()\n",
    "print(state.head())"
   ]
  },
  {
   "cell_type": "code",
   "execution_count": 8,
   "metadata": {},
   "outputs": [
    {
     "name": "stdout",
     "output_type": "stream",
     "text": [
      "            date    state  fips  cases  deaths    State  case_diff  death_diff\n",
      "5349  2020-06-08  Alabama     1  20925     718  Alabama      425.0        26.0\n",
      "5404  2020-06-09  Alabama     1  21422     729  Alabama      497.0        11.0\n",
      "5459  2020-06-10  Alabama     1  21989     744  Alabama      567.0        15.0\n",
      "5514  2020-06-11  Alabama     1  22845     755  Alabama      856.0        11.0\n",
      "5569  2020-06-12  Alabama     1  23710     769  Alabama      865.0        14.0\n"
     ]
    }
   ],
   "source": [
    "##CREATE State Prevalence measure\n",
    "#Filter for past 14 days\n",
    "state_range_14 = state[state['date'].isin(prevalence)]\n",
    "print(state_range_14.head())"
   ]
  },
  {
   "cell_type": "code",
   "execution_count": 9,
   "metadata": {},
   "outputs": [
    {
     "name": "stdout",
     "output_type": "stream",
     "text": [
      "        State  fips    cases  deaths  case_diff  death_diff  state_active\n",
      "0     Alabama    14   358381   10919     9521.0       147.0        9521.0\n",
      "1      Alaska    28    10264     135      271.0         2.0         271.0\n",
      "2     Arizona    56   532527   16887    25742.0       302.0       25742.0\n",
      "3    Arkansas    70   176123    2622     6135.0        71.0        6135.0\n",
      "4  California    84  2175865   71799    46810.0       864.0       46810.0\n"
     ]
    }
   ],
   "source": [
    "#create state group for prevalence\n",
    "\n",
    "state_prevalence_grouped = state_range_14.groupby(['State'], as_index=False).sum()\n",
    "\n",
    "state_prevalence_grouped['state_active'] = state_prevalence_grouped['case_diff']\n",
    "print(state_prevalence_grouped.head())"
   ]
  },
  {
   "cell_type": "code",
   "execution_count": 10,
   "metadata": {},
   "outputs": [
    {
     "name": "stdout",
     "output_type": "stream",
     "text": [
      "            date    state  fips  cases  deaths    State  case_diff  death_diff\n",
      "5734  2020-06-15  Alabama     1  26272     774  Alabama      657.0         1.0\n",
      "5789  2020-06-16  Alabama     1  26912     785  Alabama      640.0        11.0\n",
      "5844  2020-06-17  Alabama     1  27312     790  Alabama      400.0         5.0\n",
      "5899  2020-06-18  Alabama     1  28206     810  Alabama      894.0        20.0\n",
      "5954  2020-06-19  Alabama     1  29002     822  Alabama      796.0        12.0\n",
      "6009  2020-06-20  Alabama     1  29549     838  Alabama      547.0        16.0\n",
      "6064  2020-06-21  Alabama     1  30021     839  Alabama      472.0         1.0\n",
      "5735  2020-06-15   Alaska     2    738      10   Alaska        4.0         0.0\n"
     ]
    }
   ],
   "source": [
    "#Take Current and previous rolling averages\n",
    "state_range_current7 = state[state['date'].isin(day7_current)]\n",
    "state_range_prev7 = state[state['date'].isin(day7_previous)]\n",
    "\n",
    "print(state_range_current7.head(8))"
   ]
  },
  {
   "cell_type": "code",
   "execution_count": 11,
   "metadata": {},
   "outputs": [
    {
     "name": "stdout",
     "output_type": "stream",
     "text": [
      "        State  fips          cases       deaths    case_diff  death_diff  \\\n",
      "0     Alabama   1.0   28182.000000   808.285714   629.428571    9.428571   \n",
      "1      Alaska   2.0     797.857143    10.000000    17.857143    0.000000   \n",
      "2     Arizona   4.0   44424.428571  1284.285714  2387.571429   22.285714   \n",
      "3    Arkansas   5.0   14139.428571   205.428571   437.142857    6.571429   \n",
      "4  California   6.0  167116.142857  5343.000000  3693.428571   61.142857   \n",
      "\n",
      "   state_curr7_case  state_curr7_death  \n",
      "0        629.428571           9.428571  \n",
      "1         17.857143           0.000000  \n",
      "2       2387.571429          22.285714  \n",
      "3        437.142857           6.571429  \n",
      "4       3693.428571          61.142857  \n",
      "        State  fips          cases       deaths    case_diff  death_diff  \\\n",
      "0     Alabama   1.0   23015.285714   751.571429   730.714286   11.571429   \n",
      "1      Alaska   2.0     668.428571     9.285714    20.857143    0.285714   \n",
      "2     Arizona   4.0   31650.857143  1128.142857  1289.857143   20.857143   \n",
      "3    Arkansas   5.0   11021.000000   169.142857   439.285714    3.571429   \n",
      "4  California   6.0  143721.714286  4914.000000  2993.714286   62.285714   \n",
      "\n",
      "   state_prev7_case  state_prev7_death  \n",
      "0        730.714286          11.571429  \n",
      "1         20.857143           0.285714  \n",
      "2       1289.857143          20.857143  \n",
      "3        439.285714           3.571429  \n",
      "4       2993.714286          62.285714  \n"
     ]
    }
   ],
   "source": [
    "#Groupby Means\n",
    "#Group by with mean\n",
    "state_current_grouped = state_range_current7.groupby(['State'],as_index=False).mean()\n",
    "state_previous_grouped = state_range_prev7.groupby(['State'], as_index=False).mean()\n",
    "\n",
    "state_current_grouped['state_curr7_case'] = state_current_grouped['case_diff']\n",
    "state_previous_grouped['state_prev7_case'] = state_previous_grouped['case_diff']\n",
    "state_current_grouped['state_curr7_death'] = state_current_grouped['death_diff']\n",
    "state_previous_grouped['state_prev7_death'] = state_previous_grouped['death_diff']\n",
    "\n",
    "print(state_current_grouped.head())\n",
    "print(state_previous_grouped.head())"
   ]
  },
  {
   "cell_type": "code",
   "execution_count": 14,
   "metadata": {},
   "outputs": [
    {
     "name": "stdout",
     "output_type": "stream",
     "text": [
      "                  State state_code  cc_ee's  state_pop   CAE  Cable Stores  \\\n",
      "0               Alabama         AL      407    4908621    65            40   \n",
      "1                Alaska         AK        0    3038999     0             0   \n",
      "2               Arizona         AZ      744    7378494   237            17   \n",
      "3              Arkansas         AR      117    3038999     1            13   \n",
      "4            California         CA     5022   39937489     0           491   \n",
      "5              Colorado         CO     8452    5845526  1206           246   \n",
      "6           Connecticut         CT     1270    3563077   306            60   \n",
      "7              Delaware         DE     1132     982895   499            37   \n",
      "8  District of Columbia         DC      360     720687     0            16   \n",
      "9               Florida         FL     7451   21992985  2123           468   \n",
      "\n",
      "   Business Services  Tech Ops  comcast_state  state_active  state_curr7_case  \\\n",
      "0                  9       178              1        9521.0        629.428571   \n",
      "1                  0         0              0         271.0         17.857143   \n",
      "2                  5        87              1       25742.0       2387.571429   \n",
      "3                  7        64              1        6135.0        437.142857   \n",
      "4                219      1997              1       46810.0       3693.428571   \n",
      "5                709       763              1        2537.0        201.285714   \n",
      "6                 40       365              1        1787.0         95.285714   \n",
      "7                  7       184              1         833.0         73.000000   \n",
      "8                 14       112              1         688.0         36.142857   \n",
      "9                324      2164              1       33353.0       3103.285714   \n",
      "\n",
      "   state_curr7_death  state_prev7_case  state_prev7_death  \n",
      "0           9.428571        730.714286          11.571429  \n",
      "1           0.000000         20.857143           0.285714  \n",
      "2          22.285714       1289.857143          20.857143  \n",
      "3           6.571429        439.285714           3.571429  \n",
      "4          61.142857       2993.714286          62.285714  \n",
      "5           6.857143        161.142857          10.285714  \n",
      "6           8.428571        160.000000          18.571429  \n",
      "7           1.857143         46.000000           3.428571  \n",
      "8           2.571429         62.142857           3.714286  \n",
      "9          32.857143       1661.428571          33.000000  \n"
     ]
    }
   ],
   "source": [
    "state_active= pd.merge(pop_df,\n",
    "                 state_prevalence_grouped[['State','state_active',\n",
    "                                       ]],\n",
    "                 on='State', \n",
    "                how='left')\n",
    "\n",
    "\n",
    "state_current_w_pop = pd.merge(state_active,\n",
    "                 state_current_grouped[['State','state_curr7_case',\n",
    "                                       'state_curr7_death']],\n",
    "                 on='State', \n",
    "                how='left')\n",
    "\n",
    "\n",
    "county_state_df = pd.merge(state_current_w_pop,\n",
    "                 state_previous_grouped[['State','state_prev7_case','state_prev7_death']],\n",
    "                 on='State', \n",
    "                how='left')\n",
    "print(county_state_df.head(10))"
   ]
  },
  {
   "cell_type": "code",
   "execution_count": 15,
   "metadata": {},
   "outputs": [
    {
     "name": "stdout",
     "output_type": "stream",
     "text": [
      "        State state_code  cc_ee's  state_pop  CAE  Cable Stores  \\\n",
      "0     Alabama         AL      407    4908621   65            40   \n",
      "1      Alaska         AK        0    3038999    0             0   \n",
      "2     Arizona         AZ      744    7378494  237            17   \n",
      "3    Arkansas         AR      117    3038999    1            13   \n",
      "4  California         CA     5022   39937489    0           491   \n",
      "\n",
      "   Business Services  Tech Ops  comcast_state  state_active  \\\n",
      "0                  9       178              1        9521.0   \n",
      "1                  0         0              0         271.0   \n",
      "2                  5        87              1       25742.0   \n",
      "3                  7        64              1        6135.0   \n",
      "4                219      1997              1       46810.0   \n",
      "\n",
      "             ...             state_curr7_death  state_prev7_case  \\\n",
      "0            ...                      9.428571        730.714286   \n",
      "1            ...                      0.000000         20.857143   \n",
      "2            ...                     22.285714       1289.857143   \n",
      "3            ...                      6.571429        439.285714   \n",
      "4            ...                     61.142857       2993.714286   \n",
      "\n",
      "   state_prev7_death  state_curr7_case100k  state_curr7_death100k  \\\n",
      "0          11.571429             12.822921               0.192082   \n",
      "1           0.285714              0.587599               0.000000   \n",
      "2          20.857143             32.358520               0.302036   \n",
      "3           3.571429             14.384436               0.216237   \n",
      "4          62.285714              9.248024               0.153096   \n",
      "\n",
      "   state_prev7_case100k  state_prev7_death100k  state_roll7case_diff  \\\n",
      "0             14.886346               0.235737             -0.138612   \n",
      "1              0.686316               0.009402             -0.143836   \n",
      "2             17.481306               0.282675              0.851036   \n",
      "3             14.454948               0.117520             -0.004878   \n",
      "4              7.496000               0.155958              0.233728   \n",
      "\n",
      "   state_roll7death_diff  state_prevalence_per100k  \n",
      "0              -0.185185                193.964863  \n",
      "1              -1.000000                  8.917410  \n",
      "2               0.068493                348.878782  \n",
      "3               0.840000                201.875683  \n",
      "4              -0.018349                117.208170  \n",
      "\n",
      "[5 rows x 21 columns]\n"
     ]
    }
   ],
   "source": [
    "#Create Indicators\n",
    "\n",
    "county_state_df['state_curr7_case100k'] = ((county_state_df['state_curr7_case']/county_state_df['state_pop'])*100000)\n",
    "county_state_df['state_curr7_death100k'] = ((county_state_df['state_curr7_death']/county_state_df['state_pop'])*100000)\n",
    "county_state_df['state_prev7_case100k'] = ((county_state_df['state_prev7_case']/county_state_df['state_pop'])*100000)\n",
    "county_state_df['state_prev7_death100k'] = ((county_state_df['state_prev7_death']/county_state_df['state_pop'])*100000)\n",
    "\n",
    "\n",
    "county_state_df['state_roll7case_diff'] = ((county_state_df['state_curr7_case100k']-county_state_df['state_prev7_case100k'])/county_state_df['state_prev7_case100k'])\n",
    "county_state_df['state_roll7death_diff'] = ((county_state_df['state_curr7_death100k']-county_state_df['state_prev7_death100k'])/county_state_df['state_prev7_death100k'])\n",
    "county_state_df['state_prevalence_per100k'] = ((county_state_df['state_active']/county_state_df['state_pop'])*100000)\n",
    "\n",
    "print(county_state_df.head())"
   ]
  },
  {
   "cell_type": "markdown",
   "metadata": {},
   "source": [
    "# COVID TRACKING DATA"
   ]
  },
  {
   "cell_type": "code",
   "execution_count": 16,
   "metadata": {},
   "outputs": [
    {
     "name": "stdout",
     "output_type": "stream",
     "text": [
      "       date state  positiveIncrease  negativeIncrease  \\\n",
      "0  20200621    AK                12              1121   \n",
      "1  20200621    AL               472              4683   \n",
      "2  20200621    AR                 0                 0   \n",
      "3  20200621    AS                 0                 0   \n",
      "4  20200621    AZ              2592             11872   \n",
      "\n",
      "   totalTestResultsIncrease state_code  \n",
      "0                      1133         AK  \n",
      "1                      5155         AL  \n",
      "2                         0         AR  \n",
      "3                         0         AS  \n",
      "4                     14464         AZ  \n",
      "date                         int64\n",
      "state                       object\n",
      "positiveIncrease             int64\n",
      "negativeIncrease             int64\n",
      "totalTestResultsIncrease     int64\n",
      "state_code                  object\n",
      "dtype: object\n"
     ]
    },
    {
     "name": "stderr",
     "output_type": "stream",
     "text": [
      "C:\\Users\\ccolam127\\AppData\\Local\\Continuum\\anaconda3\\lib\\site-packages\\ipykernel_launcher.py:5: SettingWithCopyWarning: \n",
      "A value is trying to be set on a copy of a slice from a DataFrame.\n",
      "Try using .loc[row_indexer,col_indexer] = value instead\n",
      "\n",
      "See the caveats in the documentation: http://pandas.pydata.org/pandas-docs/stable/indexing.html#indexing-view-versus-copy\n",
      "  \"\"\"\n"
     ]
    }
   ],
   "source": [
    "#Bring in COVID TRACKING data\n",
    "url_all = \"https://covidtracking.com/api/v1/states/daily.csv\"\n",
    "testing_all = pd.read_csv(url_all)\n",
    "testing = testing_all[['date','state','positiveIncrease','negativeIncrease', 'totalTestResultsIncrease']]\n",
    "testing['state_code'] = testing['state']\n",
    "\n",
    "print(testing.head())\n",
    "print(testing.dtypes)"
   ]
  },
  {
   "cell_type": "code",
   "execution_count": 17,
   "metadata": {},
   "outputs": [
    {
     "name": "stdout",
     "output_type": "stream",
     "text": [
      "       date state  positiveIncrease  negativeIncrease  \\\n",
      "0  20200621    AK                12              1121   \n",
      "1  20200621    AL               472              4683   \n",
      "2  20200621    AR                 0                 0   \n",
      "3  20200621    AS                 0                 0   \n",
      "4  20200621    AZ              2592             11872   \n",
      "5  20200621    CA              4515             80329   \n",
      "6  20200621    CO               162              5155   \n",
      "7  20200621    CT                40              3733   \n",
      "8  20200621    DC                36              1533   \n",
      "9  20200621    DE                94              2464   \n",
      "\n",
      "   totalTestResultsIncrease state_code  curr_pos_%  \n",
      "0                      1133         AK    0.010591  \n",
      "1                      5155         AL    0.091562  \n",
      "2                         0         AR         NaN  \n",
      "3                         0         AS         NaN  \n",
      "4                     14464         AZ    0.179204  \n",
      "5                     84844         CA    0.053215  \n",
      "6                      5317         CO    0.030468  \n",
      "7                      3773         CT    0.010602  \n",
      "8                      1569         DC    0.022945  \n",
      "9                      2558         DE    0.036747  \n",
      "         date state  positiveIncrease  negativeIncrease  \\\n",
      "392  20200614    AK                 7              1657   \n",
      "393  20200614    AL              1014              3189   \n",
      "394  20200614    AR               954              9018   \n",
      "395  20200614    AS                 0                 0   \n",
      "396  20200614    AZ              1233              8415   \n",
      "\n",
      "     totalTestResultsIncrease state_code  prev_pos_%  \n",
      "392                      1664         AK    0.004207  \n",
      "393                      4203         AL    0.241256  \n",
      "394                      9972         AR    0.095668  \n",
      "395                         0         AS         NaN  \n",
      "396                      9648         AZ    0.127799  \n"
     ]
    },
    {
     "name": "stderr",
     "output_type": "stream",
     "text": [
      "C:\\Users\\ccolam127\\AppData\\Local\\Continuum\\anaconda3\\lib\\site-packages\\ipykernel_launcher.py:2: SettingWithCopyWarning: \n",
      "A value is trying to be set on a copy of a slice from a DataFrame.\n",
      "Try using .loc[row_indexer,col_indexer] = value instead\n",
      "\n",
      "See the caveats in the documentation: http://pandas.pydata.org/pandas-docs/stable/indexing.html#indexing-view-versus-copy\n",
      "  \n",
      "C:\\Users\\ccolam127\\AppData\\Local\\Continuum\\anaconda3\\lib\\site-packages\\ipykernel_launcher.py:6: SettingWithCopyWarning: \n",
      "A value is trying to be set on a copy of a slice from a DataFrame.\n",
      "Try using .loc[row_indexer,col_indexer] = value instead\n",
      "\n",
      "See the caveats in the documentation: http://pandas.pydata.org/pandas-docs/stable/indexing.html#indexing-view-versus-copy\n",
      "  \n"
     ]
    }
   ],
   "source": [
    "curr_testing = testing[(testing['date']>=curr_test_end) & (testing['date']<=curr_test_start)]\n",
    "curr_testing['curr_pos_%'] = (curr_testing['positiveIncrease']/curr_testing['totalTestResultsIncrease'])\n",
    "print(curr_testing.head(10))\n",
    "\n",
    "prev_testing = testing[(testing['date']>=prev_test_end) & (testing['date']<=prev_test_start)]\n",
    "prev_testing['prev_pos_%'] = (prev_testing['positiveIncrease']/prev_testing['totalTestResultsIncrease'])\n",
    "print(prev_testing.head())"
   ]
  },
  {
   "cell_type": "code",
   "execution_count": 18,
   "metadata": {},
   "outputs": [
    {
     "name": "stdout",
     "output_type": "stream",
     "text": [
      "  state_code        date  positiveIncrease  negativeIncrease  \\\n",
      "0         AK  20200618.0         13.428571       2070.000000   \n",
      "1         AL  20200618.0        629.428571       6116.714286   \n",
      "2         AR  20200618.0        377.285714       6086.285714   \n",
      "3         AS  20200618.0          0.000000          0.000000   \n",
      "4         AZ  20200618.0       2385.571429       9285.714286   \n",
      "\n",
      "   totalTestResultsIncrease  curr_pos_%  \n",
      "0               2083.428571    0.007055  \n",
      "1               6746.142857    0.108375  \n",
      "2               6463.571429    0.083086  \n",
      "3                  0.000000         NaN  \n",
      "4              11671.285714    0.203062  \n",
      "  state_code        date  positiveIncrease  negativeIncrease  \\\n",
      "0         AK  20200611.0         16.714286       1206.571429   \n",
      "1         AL  20200611.0        730.714286       4682.000000   \n",
      "2         AR  20200611.0        439.285714       4805.857143   \n",
      "3         AS  20200611.0          0.000000          0.000000   \n",
      "4         AZ  20200611.0       1257.428571       6803.142857   \n",
      "\n",
      "   totalTestResultsIncrease  prev_pos_%  \n",
      "0               1223.285714    0.015747  \n",
      "1               5412.714286    0.257798  \n",
      "2               5245.142857    0.336105  \n",
      "3                  0.000000         NaN  \n",
      "4               8060.571429    0.164693  \n"
     ]
    }
   ],
   "source": [
    "#Group by with mean\n",
    "curr_test_grouped = curr_testing.groupby(['state_code'],as_index=False).mean()\n",
    "prev_test_grouped = prev_testing.groupby(['state_code'], as_index=False).mean()\n",
    "\n",
    "print(curr_test_grouped.head())\n",
    "print(prev_test_grouped.head())"
   ]
  },
  {
   "cell_type": "code",
   "execution_count": 19,
   "metadata": {},
   "outputs": [
    {
     "name": "stdout",
     "output_type": "stream",
     "text": [
      "        State state_code  cc_ee's  state_pop  CAE  Cable Stores  \\\n",
      "0     Alabama         AL      407    4908621   65            40   \n",
      "1      Alaska         AK        0    3038999    0             0   \n",
      "2     Arizona         AZ      744    7378494  237            17   \n",
      "3    Arkansas         AR      117    3038999    1            13   \n",
      "4  California         CA     5022   39937489    0           491   \n",
      "\n",
      "   Business Services  Tech Ops  comcast_state  state_active     ...      \\\n",
      "0                  9       178              1        9521.0     ...       \n",
      "1                  0         0              0         271.0     ...       \n",
      "2                  5        87              1       25742.0     ...       \n",
      "3                  7        64              1        6135.0     ...       \n",
      "4                219      1997              1       46810.0     ...       \n",
      "\n",
      "   state_prev7_case  state_prev7_death  state_curr7_case100k  \\\n",
      "0        730.714286          11.571429             12.822921   \n",
      "1         20.857143           0.285714              0.587599   \n",
      "2       1289.857143          20.857143             32.358520   \n",
      "3        439.285714           3.571429             14.384436   \n",
      "4       2993.714286          62.285714              9.248024   \n",
      "\n",
      "   state_curr7_death100k  state_prev7_case100k  state_prev7_death100k  \\\n",
      "0               0.192082             14.886346               0.235737   \n",
      "1               0.000000              0.686316               0.009402   \n",
      "2               0.302036             17.481306               0.282675   \n",
      "3               0.216237             14.454948               0.117520   \n",
      "4               0.153096              7.496000               0.155958   \n",
      "\n",
      "   state_roll7case_diff  state_roll7death_diff  state_prevalence_per100k  \\\n",
      "0             -0.138612              -0.185185                193.964863   \n",
      "1             -0.143836              -1.000000                  8.917410   \n",
      "2              0.851036               0.068493                348.878782   \n",
      "3             -0.004878               0.840000                201.875683   \n",
      "4              0.233728              -0.018349                117.208170   \n",
      "\n",
      "   curr_pos_%  \n",
      "0    0.108375  \n",
      "1    0.007055  \n",
      "2    0.203062  \n",
      "3    0.083086  \n",
      "4    0.048016  \n",
      "\n",
      "[5 rows x 22 columns]\n",
      "        State state_code  cc_ee's  state_pop  CAE  Cable Stores  \\\n",
      "0     Alabama         AL      407    4908621   65            40   \n",
      "1      Alaska         AK        0    3038999    0             0   \n",
      "2     Arizona         AZ      744    7378494  237            17   \n",
      "3    Arkansas         AR      117    3038999    1            13   \n",
      "4  California         CA     5022   39937489    0           491   \n",
      "\n",
      "   Business Services  Tech Ops  comcast_state  state_active      ...       \\\n",
      "0                  9       178              1        9521.0      ...        \n",
      "1                  0         0              0         271.0      ...        \n",
      "2                  5        87              1       25742.0      ...        \n",
      "3                  7        64              1        6135.0      ...        \n",
      "4                219      1997              1       46810.0      ...        \n",
      "\n",
      "   state_curr7_case100k  state_curr7_death100k  state_prev7_case100k  \\\n",
      "0             12.822921               0.192082             14.886346   \n",
      "1              0.587599               0.000000              0.686316   \n",
      "2             32.358520               0.302036             17.481306   \n",
      "3             14.384436               0.216237             14.454948   \n",
      "4              9.248024               0.153096              7.496000   \n",
      "\n",
      "   state_prev7_death100k  state_roll7case_diff  state_roll7death_diff  \\\n",
      "0               0.235737             -0.138612              -0.185185   \n",
      "1               0.009402             -0.143836              -1.000000   \n",
      "2               0.282675              0.851036               0.068493   \n",
      "3               0.117520             -0.004878               0.840000   \n",
      "4               0.155958              0.233728              -0.018349   \n",
      "\n",
      "   state_prevalence_per100k  curr_pos_%  prev_pos_%  testing_diff  \n",
      "0                193.964863    0.108375    0.257798     -0.149423  \n",
      "1                  8.917410    0.007055    0.015747     -0.008692  \n",
      "2                348.878782    0.203062    0.164693      0.038369  \n",
      "3                201.875683    0.083086    0.336105     -0.253019  \n",
      "4                117.208170    0.048016    0.045966      0.002050  \n",
      "\n",
      "[5 rows x 24 columns]\n"
     ]
    }
   ],
   "source": [
    "\n",
    "curr_merge = pd.merge(county_state_df,\n",
    "                 curr_test_grouped[['state_code','curr_pos_%']],\n",
    "                 on='state_code', \n",
    "                how='left')\n",
    "print(curr_merge.head())\n",
    "\n",
    "mam_v2 = pd.merge(curr_merge,\n",
    "                 prev_test_grouped[['state_code','prev_pos_%']],\n",
    "                 on='state_code', \n",
    "                how='left')\n",
    "\n",
    "\n",
    "mam_v2['testing_diff'] = (mam_v2['curr_pos_%'] - mam_v2['prev_pos_%'])\n",
    "print(mam_v2.head())"
   ]
  },
  {
   "cell_type": "markdown",
   "metadata": {},
   "source": [
    "# Create Scores"
   ]
  },
  {
   "cell_type": "code",
   "execution_count": 22,
   "metadata": {},
   "outputs": [
    {
     "name": "stdout",
     "output_type": "stream",
     "text": [
      "count     51.000000\n",
      "mean      88.470675\n",
      "std       61.687031\n",
      "min        8.917410\n",
      "25%       49.266244\n",
      "50%       77.504960\n",
      "75%      114.066335\n",
      "max      348.878782\n",
      "Name: state_prevalence_per100k, dtype: float64\n",
      "count    51.000000\n",
      "mean      0.163309\n",
      "std       0.434117\n",
      "min      -0.500000\n",
      "25%      -0.155834\n",
      "50%       0.008550\n",
      "75%       0.409092\n",
      "max       1.353846\n",
      "Name: state_roll7case_diff, dtype: float64\n",
      "count    51.000000\n",
      "mean          -inf\n",
      "std            NaN\n",
      "min           -inf\n",
      "25%      -0.009612\n",
      "50%      -0.000417\n",
      "75%       0.015526\n",
      "max       0.302734\n",
      "Name: testing_diff, dtype: float64\n",
      "count    50.000000\n",
      "mean           inf\n",
      "std            NaN\n",
      "min      -1.000000\n",
      "25%      -0.332895\n",
      "50%      -0.110324\n",
      "75%       0.065259\n",
      "max            inf\n",
      "Name: state_roll7death_diff, dtype: float64\n"
     ]
    }
   ],
   "source": [
    "print(mam_v2.state_prevalence_per100k.describe())\n",
    "\n",
    "print(mam_v2.state_roll7case_diff.describe())\n",
    "\n",
    "print(mam_v2.testing_diff.describe())\n",
    "\n",
    "print(mam_v2.state_roll7death_diff.describe())"
   ]
  },
  {
   "cell_type": "code",
   "execution_count": 28,
   "metadata": {},
   "outputs": [],
   "source": [
    "#Active 100k >94.09 = 2, >39.49 = 1, >39.49 = 0\n",
    "#Rolling - >0.15 = 2, 0.15 to -0.15, 1, >0.15 = 0\n",
    "#Deaths - >>5 = 4, 0\n",
    "\n",
    "\n",
    "def active(n):\n",
    "    if 0<=n<=49.48: score = 0\n",
    "    elif 49.49<=n<=114.05: score = 1\n",
    "    elif 114.06<=n<=100000: score = 2\n",
    "    else: score = 0\n",
    "    return(score)\n",
    "\n",
    "\n",
    "\n",
    "def roll(n):\n",
    "    if -1<=n<=-0.10: score = 0\n",
    "    elif -0.10<=n<=0.10: score = 1\n",
    "    elif 0.16<=n<=100: score = 2\n",
    "    else: score = 0\n",
    "    return(score)\n",
    "\n",
    "def fatal(n):\n",
    "    if n>=0.05: score = 4\n",
    "    else: score = 0\n",
    "    return(score)\n",
    "\n",
    "def test(n):\n",
    "    if -2<=n<=-.01: score = 0\n",
    "    elif -.011111<=n<=.01: score = 1\n",
    "    elif 0.01111 <=n<= 100: score =2\n",
    "    else: score = 0\n",
    "    return(score)\n",
    "\n",
    "\n",
    "#county_filtered['Active_100k_Score'] = county_filtered['active_cases_100k'].apply(active)\n",
    "#county_filtered['State_Active_100k_Score'] = county_filtered['state_prevalence_per100k'].apply(active)\n",
    "#county_filtered['County_Roll_Score'] = county_filtered['roll7case_diff'].apply(roll)\n",
    "#county_filtered['State_Roll_Score'] = county_filtered['state_roll7case_diff'].apply(roll)\n",
    "#county_filtered['County_Fatality_Roll_Score'] = county_filtered['roll7death_diff'].apply(fatal)\n",
    "#county_filtered['State_Fatality_Roll_Score'] = county_filtered['state_roll7death_diff'].apply(fatal)\n",
    "#county_filtered['State_Testing_Score'] = county_filtered['testing_diff'].apply(test)\n",
    "\n",
    "\n"
   ]
  },
  {
   "cell_type": "code",
   "execution_count": 24,
   "metadata": {},
   "outputs": [
    {
     "name": "stdout",
     "output_type": "stream",
     "text": [
      "        State state_code  cc_ee's  state_pop  CAE  Cable Stores  \\\n",
      "0     Alabama         AL      407    4908621   65            40   \n",
      "1      Alaska         AK        0    3038999    0             0   \n",
      "2     Arizona         AZ      744    7378494  237            17   \n",
      "3    Arkansas         AR      117    3038999    1            13   \n",
      "4  California         CA     5022   39937489    0           491   \n",
      "\n",
      "   Business Services  Tech Ops  comcast_state  state_active  \\\n",
      "0                  9       178              1        9521.0   \n",
      "1                  0         0              0         271.0   \n",
      "2                  5        87              1       25742.0   \n",
      "3                  7        64              1        6135.0   \n",
      "4                219      1997              1       46810.0   \n",
      "\n",
      "          ...           state_roll7case_diff  state_roll7death_diff  \\\n",
      "0         ...                      -0.138612              -0.185185   \n",
      "1         ...                      -0.143836              -1.000000   \n",
      "2         ...                       0.851036               0.068493   \n",
      "3         ...                      -0.004878               0.840000   \n",
      "4         ...                       0.233728              -0.018349   \n",
      "\n",
      "   state_prevalence_per100k  curr_pos_%  prev_pos_%  testing_diff  \\\n",
      "0                193.964863    0.108375    0.257798     -0.149423   \n",
      "1                  8.917410    0.007055    0.015747     -0.008692   \n",
      "2                348.878782    0.203062    0.164693      0.038369   \n",
      "3                201.875683    0.083086    0.336105     -0.253019   \n",
      "4                117.208170    0.048016    0.045966      0.002050   \n",
      "\n",
      "   State_Active_100k_Score  State_Roll_Score  State_Fatality_Roll_Score  \\\n",
      "0                        2                 1                          0   \n",
      "1                        0                 0                          0   \n",
      "2                        2                 2                          4   \n",
      "3                        2                 1                          4   \n",
      "4                        2                 2                          0   \n",
      "\n",
      "   State_Testing_Score  \n",
      "0                    0  \n",
      "1                    1  \n",
      "2                    2  \n",
      "3                    0  \n",
      "4                    1  \n",
      "\n",
      "[5 rows x 28 columns]\n"
     ]
    }
   ],
   "source": [
    "mam_v2['State_Active_100k_Score'] = mam_v2['state_prevalence_per100k'].apply(active)\n",
    "mam_v2['State_Roll_Score'] = mam_v2['state_roll7case_diff'].apply(roll)\n",
    "mam_v2['State_Fatality_Roll_Score'] = mam_v2['state_roll7death_diff'].apply(fatal)\n",
    "mam_v2['State_Testing_Score'] = mam_v2['testing_diff'].apply(test)\n",
    "\n",
    "\n",
    "print(mam_v2.head())"
   ]
  },
  {
   "cell_type": "code",
   "execution_count": 25,
   "metadata": {},
   "outputs": [],
   "source": [
    "mam_v2['State_Composite_Score'] =  (mam_v2['State_Active_100k_Score'] + mam_v2['State_Roll_Score']+mam_v2['State_Fatality_Roll_Score']+\n",
    "                                    mam_v2['State_Testing_Score'])\n"
   ]
  },
  {
   "cell_type": "code",
   "execution_count": 26,
   "metadata": {},
   "outputs": [
    {
     "name": "stdout",
     "output_type": "stream",
     "text": [
      "        State state_code  cc_ee's  state_pop   CAE  Cable Stores  \\\n",
      "0     Alabama         AL      407    4908621    65            40   \n",
      "2     Arizona         AZ      744    7378494   237            17   \n",
      "3    Arkansas         AR      117    3038999     1            13   \n",
      "4  California         CA     5022   39937489     0           491   \n",
      "5    Colorado         CO     8452    5845526  1206           246   \n",
      "\n",
      "   Business Services  Tech Ops  comcast_state  state_active  \\\n",
      "0                  9       178              1        9521.0   \n",
      "2                  5        87              1       25742.0   \n",
      "3                  7        64              1        6135.0   \n",
      "4                219      1997              1       46810.0   \n",
      "5                709       763              1        2537.0   \n",
      "\n",
      "           ...            state_roll7death_diff  state_prevalence_per100k  \\\n",
      "0          ...                        -0.185185                193.964863   \n",
      "2          ...                         0.068493                348.878782   \n",
      "3          ...                         0.840000                201.875683   \n",
      "4          ...                        -0.018349                117.208170   \n",
      "5          ...                        -0.333333                 43.400714   \n",
      "\n",
      "   curr_pos_%  prev_pos_%  testing_diff  State_Active_100k_Score  \\\n",
      "0    0.108375    0.257798     -0.149423                        2   \n",
      "2    0.203062    0.164693      0.038369                        2   \n",
      "3    0.083086    0.336105     -0.253019                        2   \n",
      "4    0.048016    0.045966      0.002050                        2   \n",
      "5    0.045027    0.042085      0.002941                        0   \n",
      "\n",
      "   State_Roll_Score  State_Fatality_Roll_Score  State_Testing_Score  \\\n",
      "0                 1                          0                    0   \n",
      "2                 2                          4                    2   \n",
      "3                 1                          4                    0   \n",
      "4                 2                          0                    1   \n",
      "5                 2                          0                    1   \n",
      "\n",
      "   State_Composite_Score  \n",
      "0                      3  \n",
      "2                     10  \n",
      "3                      7  \n",
      "4                      5  \n",
      "5                      3  \n",
      "\n",
      "[5 rows x 29 columns]\n"
     ]
    }
   ],
   "source": [
    "state_df = mam_v2.query('comcast_state ==1')\n",
    "print(state_df.head())"
   ]
  },
  {
   "cell_type": "code",
   "execution_count": 27,
   "metadata": {},
   "outputs": [],
   "source": [
    "state_df.to_csv('State_RTW_622.csv') "
   ]
  },
  {
   "cell_type": "code",
   "execution_count": null,
   "metadata": {},
   "outputs": [],
   "source": []
  }
 ],
 "metadata": {
  "kernelspec": {
   "display_name": "Python 3",
   "language": "python",
   "name": "python3"
  },
  "language_info": {
   "codemirror_mode": {
    "name": "ipython",
    "version": 3
   },
   "file_extension": ".py",
   "mimetype": "text/x-python",
   "name": "python",
   "nbconvert_exporter": "python",
   "pygments_lexer": "ipython3",
   "version": "3.7.4"
  }
 },
 "nbformat": 4,
 "nbformat_minor": 2
}
