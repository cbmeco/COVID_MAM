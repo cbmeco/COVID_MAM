{
 "cells": [
  {
   "cell_type": "markdown",
   "metadata": {},
   "source": [
    "# RTW MAM Model V1 \n",
    "# County Data First"
   ]
  },
  {
   "cell_type": "code",
   "execution_count": 91,
   "metadata": {},
   "outputs": [],
   "source": [
    "import os\n",
    "import numpy as np\n",
    "import pandas as pd\n",
    "import matplotlib.pyplot as plt\n",
    "import json\n",
    "import csv\n",
    "import pickle"
   ]
  },
  {
   "cell_type": "code",
   "execution_count": 84,
   "metadata": {},
   "outputs": [],
   "source": [
    "#SET DATE FILTERS\n",
    "\n",
    "prevalence = ['2020-06-15','2020-06-14','2020-06-13','2020-06-12','2020-06-11','2020-06-10','2020-06-09','2020-06-08',\n",
    "              '2020-06-07','2020-06-06','2020-06-05','2020-06-04','2020-06-03','2020-06-02']\n",
    "\n",
    "day7_current = ['2020-06-15','2020-06-14','2020-06-13','2020-06-12','2020-06-11','2020-06-10','2020-06-09']\n",
    "\n",
    "day7_previous = ['2020-06-08','2020-06-07','2020-06-06','2020-06-05','2020-06-04','2020-06-03','2020-06-02']"
   ]
  },
  {
   "cell_type": "code",
   "execution_count": 107,
   "metadata": {},
   "outputs": [
    {
     "name": "stdout",
     "output_type": "stream",
     "text": [
      "    fips       county       state         pop\n",
      "1  53061    Snohomish  Washington    822083.0\n",
      "3  17031         Cook    Illinois   5150233.0\n",
      "5  06059       Orange  California   3175692.0\n",
      "7  04013     Maricopa     Arizona   4485414.0\n",
      "9  06037  Los Angeles  California  10039107.0\n"
     ]
    }
   ],
   "source": [
    "#Creating pop file\n",
    "#df = pd.read_csv(\"County4techs_4_15.csv\",names=[\"I\", \"day\", \"cases\", \"county\",\"state\",\"doubling\",\"fips\",\"pop\"],\n",
    "#                dtype={'fips': str})\n",
    "\n",
    "#df_filtered = df[(df.day==5)]\n",
    "#print(df.shape)\n",
    "\n",
    "#pop_df = df_filtered[['fips','county','state','pop' ]]\n",
    "#print(pop_df.head())\n",
    "\n",
    "#pickle.dump(pop_df, open(\"pop_df.sav\",\"wb\" ))"
   ]
  },
  {
   "cell_type": "code",
   "execution_count": 108,
   "metadata": {},
   "outputs": [
    {
     "name": "stdout",
     "output_type": "stream",
     "text": [
      "         date     county       state   fips  cases  deaths\n",
      "0  2020-01-21  Snohomish  Washington  53061      1       0\n",
      "1  2020-01-22  Snohomish  Washington  53061      1       0\n",
      "2  2020-01-23  Snohomish  Washington  53061      1       0\n",
      "3  2020-01-24       Cook    Illinois  17031      1       0\n",
      "4  2020-01-24  Snohomish  Washington  53061      1       0\n",
      "    fips       county       state         pop\n",
      "1  53061    Snohomish  Washington    822083.0\n",
      "3  17031         Cook    Illinois   5150233.0\n",
      "5  06059       Orange  California   3175692.0\n",
      "7  04013     Maricopa     Arizona   4485414.0\n",
      "9  06037  Los Angeles  California  10039107.0\n",
      "<class 'pandas.core.frame.DataFrame'>\n"
     ]
    }
   ],
   "source": [
    "#Bring in County Data set\n",
    "nytimes = \"https://raw.githubusercontent.com/nytimes/covid-19-data/master/us-counties.csv\"\n",
    "counties = pd.read_csv(nytimes,dtype={'fips': str})\n",
    "print(nyt.head())\n",
    "\n",
    "#Change to own pop_df location\n",
    "pop_df = pickle.load(open(\"pop_df.sav\",\"rb\"))\n",
    "\n",
    "print(pop_df.head())\n",
    "print(type(pop_df))"
   ]
  },
  {
   "cell_type": "markdown",
   "metadata": {},
   "source": [
    "# Create Active Case Count"
   ]
  },
  {
   "cell_type": "code",
   "execution_count": 115,
   "metadata": {},
   "outputs": [
    {
     "name": "stdout",
     "output_type": "stream",
     "text": [
      "             date   county    state   fips  cases  deaths\n",
      "9480   2020-03-24  Autauga  Alabama  01001      1       0\n",
      "10832  2020-03-25  Autauga  Alabama  01001      4       0\n",
      "12361  2020-03-26  Autauga  Alabama  01001      6       0\n",
      "14021  2020-03-27  Autauga  Alabama  01001      6       0\n",
      "15801  2020-03-28  Autauga  Alabama  01001      6       0\n",
      "             date   county    state   fips  cases  deaths  case_diff  \\\n",
      "9480   2020-03-24  Autauga  Alabama  01001      1       0        NaN   \n",
      "10832  2020-03-25  Autauga  Alabama  01001      4       0        3.0   \n",
      "12361  2020-03-26  Autauga  Alabama  01001      6       0        2.0   \n",
      "14021  2020-03-27  Autauga  Alabama  01001      6       0        0.0   \n",
      "15801  2020-03-28  Autauga  Alabama  01001      6       0        0.0   \n",
      "\n",
      "       death_diff  \n",
      "9480          NaN  \n",
      "10832         0.0  \n",
      "12361         0.0  \n",
      "14021         0.0  \n",
      "15801         0.0  \n"
     ]
    }
   ],
   "source": [
    "#Create new cases field\n",
    "#Sort df by Fips and Date\n",
    "counties.sort_values(by=['fips','date'],inplace=True, ascending=True)\n",
    "print(counties.head())\n",
    "\n",
    "#Take difference between rows for new case and new death numbers\n",
    "counties['case_diff'] = counties.cases.diff()\n",
    "counties['death_diff'] = counties.deaths.diff()\n",
    "\n",
    "\n",
    "print(counties.head())"
   ]
  },
  {
   "cell_type": "code",
   "execution_count": 38,
   "metadata": {},
   "outputs": [
    {
     "name": "stdout",
     "output_type": "stream",
     "text": [
      "              date   county    state   fips  cases  deaths  case_diff  \\\n",
      "197593  2020-06-02  Autauga  Alabama  01001    240       5        6.0   \n",
      "200589  2020-06-03  Autauga  Alabama  01001    240       5        0.0   \n",
      "203588  2020-06-04  Autauga  Alabama  01001    242       5        2.0   \n",
      "206590  2020-06-05  Autauga  Alabama  01001    249       5        7.0   \n",
      "209596  2020-06-06  Autauga  Alabama  01001    260       5       11.0   \n",
      "212603  2020-06-07  Autauga  Alabama  01001    266       5        6.0   \n",
      "215613  2020-06-08  Autauga  Alabama  01001    273       5        7.0   \n",
      "218625  2020-06-09  Autauga  Alabama  01001    283       5       10.0   \n",
      "221641  2020-06-10  Autauga  Alabama  01001    296       6       13.0   \n",
      "224663  2020-06-11  Autauga  Alabama  01001    316       6       20.0   \n",
      "227686  2020-06-12  Autauga  Alabama  01001    327       6       11.0   \n",
      "230711  2020-06-13  Autauga  Alabama  01001    335       6        8.0   \n",
      "233737  2020-06-14  Autauga  Alabama  01001    361       6       26.0   \n",
      "236764  2020-06-15  Autauga  Alabama  01001    368       6        7.0   \n",
      "197594  2020-06-02  Baldwin  Alabama  01003    308       9        2.0   \n",
      "\n",
      "        death_diff  \n",
      "197593         0.0  \n",
      "200589         0.0  \n",
      "203588         0.0  \n",
      "206590         0.0  \n",
      "209596         0.0  \n",
      "212603         0.0  \n",
      "215613         0.0  \n",
      "218625         0.0  \n",
      "221641         1.0  \n",
      "224663         0.0  \n",
      "227686         0.0  \n",
      "230711         0.0  \n",
      "233737         0.0  \n",
      "236764         0.0  \n",
      "197594         0.0  \n"
     ]
    }
   ],
   "source": [
    "#Filter for past 14 days\n",
    "range_14 = counties[counties['date'].isin(prevalence)]\n",
    "print(range_14.head(15))"
   ]
  },
  {
   "cell_type": "code",
   "execution_count": 39,
   "metadata": {},
   "outputs": [
    {
     "name": "stdout",
     "output_type": "stream",
     "text": [
      "     fips  cases  deaths  case_diff  death_diff\n",
      "0   01001   4056      76      134.0         1.0\n",
      "1   01003   4771     126       77.0         0.0\n",
      "2   01005   2845      14       65.0         0.0\n",
      "3   01007   1255      14       32.0         0.0\n",
      "4   01009   1158      14       51.0         0.0\n",
      "5   01011   3466     111       97.0         3.0\n",
      "6   01013   6578     316      128.0         7.0\n",
      "7   01015   2621      42       32.0         0.0\n",
      "8   01017   5743     364      105.0         1.0\n",
      "9   01019    617      56       14.0         2.0\n",
      "10  01021   1700      24       34.0         1.0\n",
      "11  01023   2252     146       22.0         1.0\n",
      "12  01025   2296      36       45.0         1.0\n",
      "13  01027    409      28        2.0         0.0\n",
      "14  01029    253      14        7.0         0.0\n",
      "15  01031   3613      14       53.0         0.0\n",
      "16  01033   3139      55       83.0         3.0\n",
      "17  01035    871      14       61.0         0.0\n",
      "18  01037    584      14        6.0         0.0\n",
      "19  01039   1493      14       90.0         0.0\n",
      "20  01041   1329      42       37.0         0.0\n",
      "21  01043   2930      14      131.0         0.0\n",
      "22  01045   2042       0       57.0         0.0\n",
      "23  01047   5146      63      228.0         3.0\n",
      "24  01049   3994      56       73.0         2.0\n"
     ]
    }
   ],
   "source": [
    "#Group by FIPS, sum up new Cases for prevalence - for 7 day averages will take mean after filtering for 7 days\n",
    "prevalence_grouped = range_14.groupby(['fips'], as_index=False).sum()\n",
    "\n",
    "print(prevalence_grouped.head(25))"
   ]
  },
  {
   "cell_type": "code",
   "execution_count": 109,
   "metadata": {},
   "outputs": [
    {
     "name": "stdout",
     "output_type": "stream",
     "text": [
      "    fips         county          state         pop  case_diff\n",
      "0  53061      Snohomish     Washington    822083.0      216.0\n",
      "1  17031           Cook       Illinois   5150233.0     6689.0\n",
      "2  06059         Orange     California   3175692.0     2227.0\n",
      "3  04013       Maricopa        Arizona   4485414.0     9435.0\n",
      "4  06037    Los Angeles     California  10039107.0    17823.0\n",
      "5  06085    Santa Clara     California   1927852.0      425.0\n",
      "6  25025        Suffolk  Massachusetts    803907.0      753.0\n",
      "7  06075  San Francisco     California    881549.0      382.0\n",
      "8  55025           Dane      Wisconsin    546695.0      231.0\n",
      "9  06073      San Diego     California   3338330.0     2056.0\n"
     ]
    }
   ],
   "source": [
    "#Join in Prevalence to \n",
    "prevalence_w_pop = pd.merge(pop_df,\n",
    "                 prevalence_grouped[['fips','case_diff']],\n",
    "                 on='fips', \n",
    "                how='left')\n",
    "print(prevalence_w_pop.head(10))"
   ]
  },
  {
   "cell_type": "code",
   "execution_count": 110,
   "metadata": {},
   "outputs": [
    {
     "name": "stdout",
     "output_type": "stream",
     "text": [
      "    fips       county       state         pop  case_diff  active_cases_100k\n",
      "0  53061    Snohomish  Washington    822083.0      216.0          26.274719\n",
      "1  17031         Cook    Illinois   5150233.0     6689.0         129.877619\n",
      "2  06059       Orange  California   3175692.0     2227.0          70.126448\n",
      "3  04013     Maricopa     Arizona   4485414.0     9435.0         210.348476\n",
      "4  06037  Los Angeles  California  10039107.0    17823.0         177.535711\n"
     ]
    }
   ],
   "source": [
    "prevalence_w_pop['active_cases_100k'] = ((prevalence_w_pop['case_diff']/prevalence_w_pop['pop'])*100000)\n",
    "print(prevalence_w_pop.head())"
   ]
  },
  {
   "cell_type": "markdown",
   "metadata": {},
   "source": [
    "# Create 7 Day Rolling Avgs for Cases & Deaths"
   ]
  },
  {
   "cell_type": "code",
   "execution_count": 116,
   "metadata": {},
   "outputs": [
    {
     "name": "stdout",
     "output_type": "stream",
     "text": [
      "              date   county    state   fips  cases  deaths  case_diff  \\\n",
      "218625  2020-06-09  Autauga  Alabama  01001    283       5       10.0   \n",
      "221641  2020-06-10  Autauga  Alabama  01001    296       6       13.0   \n",
      "224663  2020-06-11  Autauga  Alabama  01001    316       6       20.0   \n",
      "227686  2020-06-12  Autauga  Alabama  01001    327       6       11.0   \n",
      "230711  2020-06-13  Autauga  Alabama  01001    335       6        8.0   \n",
      "\n",
      "        death_diff  \n",
      "218625         0.0  \n",
      "221641         1.0  \n",
      "224663         0.0  \n",
      "227686         0.0  \n",
      "230711         0.0  \n"
     ]
    }
   ],
   "source": [
    "#Filter Diff datasets for current and previous 7 day periods\n",
    "\n",
    "#join prev and current together with pop\n",
    "\n",
    "range_current7 = counties[counties['date'].isin(day7_current)]\n",
    "range_prev7 = counties[counties['date'].isin(day7_previous)]\n",
    "\n",
    "print(range_current7.head())"
   ]
  },
  {
   "cell_type": "code",
   "execution_count": 135,
   "metadata": {},
   "outputs": [
    {
     "name": "stdout",
     "output_type": "stream",
     "text": [
      "    fips       cases    deaths  case_diff  death_diff  curr7_case  curr7_death\n",
      "0  01001  326.571429  5.857143  13.571429    0.142857   13.571429     0.142857\n",
      "1  01003  364.285714  9.000000   6.857143    0.000000    6.857143     0.000000\n",
      "2  01005  220.857143  1.000000   5.714286    0.000000    5.714286     0.000000\n",
      "3  01007   99.571429  1.000000   4.142857    0.000000    4.142857     0.000000\n",
      "4  01009   96.571429  1.000000   5.857143    0.000000    5.857143     0.000000\n",
      "    fips       cases  deaths  case_diff  death_diff  prev7_case  prev7_death\n",
      "0  01001  252.857143     5.0   5.571429         0.0    5.571429          0.0\n",
      "1  01003  317.285714     9.0   4.142857         0.0    4.142857          0.0\n",
      "2  01005  185.571429     1.0   3.571429         0.0    3.571429          0.0\n",
      "3  01007   79.714286     1.0   0.428571         0.0    0.428571          0.0\n",
      "4  01009   68.857143     1.0   1.428571         0.0    1.428571          0.0\n"
     ]
    }
   ],
   "source": [
    "#Group by with mean\n",
    "current_grouped = range_current7.groupby(['fips'],as_index=False).mean()\n",
    "previous_grouped = range_prev7.groupby(['fips'], as_index=False).mean()\n",
    "\n",
    "current_grouped['curr7_case'] = current_grouped['case_diff']\n",
    "current_grouped['curr7_death'] = current_grouped['death_diff']\n",
    "previous_grouped['prev7_case'] = previous_grouped['case_diff']\n",
    "previous_grouped['prev7_death'] = previous_grouped['death_diff']\n",
    "print(current_grouped.head())\n",
    "print(previous_grouped.head())"
   ]
  },
  {
   "cell_type": "code",
   "execution_count": 136,
   "metadata": {},
   "outputs": [
    {
     "name": "stdout",
     "output_type": "stream",
     "text": [
      "    fips         county          state         pop   curr7_case  curr7_death\n",
      "0  53061      Snohomish     Washington    822083.0    13.000000     0.428571\n",
      "1  17031           Cook       Illinois   5150233.0   337.857143    35.285714\n",
      "2  06059         Orange     California   3175692.0   159.428571     6.285714\n",
      "3  04013       Maricopa        Arizona   4485414.0   767.000000     9.428571\n",
      "4  06037    Los Angeles     California  10039107.0  1306.714286    38.714286\n",
      "5  06085    Santa Clara     California   1927852.0    36.714286     0.857143\n",
      "6  25025        Suffolk  Massachusetts    803907.0    43.714286     2.857143\n",
      "7  06075  San Francisco     California    881549.0    24.714286     0.285714\n",
      "8  55025           Dane      Wisconsin    546695.0    16.000000     0.142857\n",
      "9  06073      San Diego     California   3338330.0   141.571429     1.142857\n",
      "    fips         county          state         pop   prev7_case  prev7_death\n",
      "0  53061      Snohomish     Washington    822083.0    17.857143     0.571429\n",
      "1  17031           Cook       Illinois   5150233.0   617.714286    43.000000\n",
      "2  06059         Orange     California   3175692.0   158.714286     4.285714\n",
      "3  04013       Maricopa        Arizona   4485414.0   580.857143     8.285714\n",
      "4  06037    Los Angeles     California  10039107.0  1239.428571    38.714286\n",
      "5  06085    Santa Clara     California   1927852.0    24.000000     0.142857\n",
      "6  25025        Suffolk  Massachusetts    803907.0    63.857143     5.000000\n",
      "7  06075  San Francisco     California    881549.0    29.857143     0.000000\n",
      "8  55025           Dane      Wisconsin    546695.0    17.000000     0.000000\n",
      "9  06073      San Diego     California   3338330.0   152.142857     0.000000\n"
     ]
    }
   ],
   "source": [
    "#Merge both sets with population\n",
    "current_w_pop = pd.merge(pop_df,\n",
    "                 current_grouped[['fips','curr7_case', 'curr7_death']],\n",
    "                 on='fips', \n",
    "                how='left')\n",
    "print(current_w_pop.head(10))\n",
    "\n",
    "previous_w_pop = pd.merge(pop_df,\n",
    "                 previous_grouped[['fips','prev7_case', 'prev7_death']],\n",
    "                 on='fips', \n",
    "                how='left')\n",
    "print(previous_w_pop.head(10))"
   ]
  },
  {
   "cell_type": "code",
   "execution_count": 137,
   "metadata": {},
   "outputs": [],
   "source": [
    "current_w_pop['cur_7rollavg_cases'] = ((current_w_pop['curr7_case']/current_w_pop['pop'])*100000)\n",
    "current_w_pop['cur_7rollavg_deaths'] = ((current_w_pop['curr7_death']/current_w_pop['pop'])*100000)"
   ]
  },
  {
   "cell_type": "code",
   "execution_count": 138,
   "metadata": {},
   "outputs": [],
   "source": [
    "previous_w_pop['prev_7rollavg_cases'] = ((previous_w_pop['prev7_case']/previous_w_pop['pop'])*100000)\n",
    "previous_w_pop['prev_7rollavg_deaths'] = ((previous_w_pop['prev7_death']/previous_w_pop['pop'])*100000)"
   ]
  },
  {
   "cell_type": "code",
   "execution_count": 139,
   "metadata": {},
   "outputs": [
    {
     "name": "stdout",
     "output_type": "stream",
     "text": [
      "    fips         county          state         pop  case_diff  \\\n",
      "0  53061      Snohomish     Washington    822083.0      216.0   \n",
      "1  17031           Cook       Illinois   5150233.0     6689.0   \n",
      "2  06059         Orange     California   3175692.0     2227.0   \n",
      "3  04013       Maricopa        Arizona   4485414.0     9435.0   \n",
      "4  06037    Los Angeles     California  10039107.0    17823.0   \n",
      "5  06085    Santa Clara     California   1927852.0      425.0   \n",
      "6  25025        Suffolk  Massachusetts    803907.0      753.0   \n",
      "7  06075  San Francisco     California    881549.0      382.0   \n",
      "8  55025           Dane      Wisconsin    546695.0      231.0   \n",
      "9  06073      San Diego     California   3338330.0     2056.0   \n",
      "\n",
      "   active_cases_100k  cur_7rollavg_cases  cur_7rollavg_deaths   curr7_case  \\\n",
      "0          26.274719            1.581349             0.052132    13.000000   \n",
      "1         129.877619            6.560036             0.685129   337.857143   \n",
      "2          70.126448            5.020278             0.197932   159.428571   \n",
      "3         210.348476           17.099871             0.210205   767.000000   \n",
      "4         177.535711           13.016240             0.385635  1306.714286   \n",
      "5          22.045261            1.904414             0.044461    36.714286   \n",
      "6          93.667551            5.437729             0.355407    43.714286   \n",
      "7          43.332815            2.803507             0.032410    24.714286   \n",
      "8          42.253908            2.926678             0.026131    16.000000   \n",
      "9          61.587680            4.240786             0.034234   141.571429   \n",
      "\n",
      "   curr7_death  \n",
      "0     0.428571  \n",
      "1    35.285714  \n",
      "2     6.285714  \n",
      "3     9.428571  \n",
      "4    38.714286  \n",
      "5     0.857143  \n",
      "6     2.857143  \n",
      "7     0.285714  \n",
      "8     0.142857  \n",
      "9     1.142857  \n"
     ]
    }
   ],
   "source": [
    "#Merge with prevalence dataset\n",
    "prev_curr = pd.merge(prevalence_w_pop,\n",
    "                 current_w_pop[['fips','cur_7rollavg_cases', 'cur_7rollavg_deaths','curr7_case','curr7_death']],\n",
    "                 on='fips', \n",
    "                how='left')\n",
    "print(prev_curr.head(10))"
   ]
  },
  {
   "cell_type": "code",
   "execution_count": 140,
   "metadata": {},
   "outputs": [
    {
     "name": "stdout",
     "output_type": "stream",
     "text": [
      "    fips         county          state         pop  case_diff  \\\n",
      "0  53061      Snohomish     Washington    822083.0      216.0   \n",
      "1  17031           Cook       Illinois   5150233.0     6689.0   \n",
      "2  06059         Orange     California   3175692.0     2227.0   \n",
      "3  04013       Maricopa        Arizona   4485414.0     9435.0   \n",
      "4  06037    Los Angeles     California  10039107.0    17823.0   \n",
      "5  06085    Santa Clara     California   1927852.0      425.0   \n",
      "6  25025        Suffolk  Massachusetts    803907.0      753.0   \n",
      "7  06075  San Francisco     California    881549.0      382.0   \n",
      "8  55025           Dane      Wisconsin    546695.0      231.0   \n",
      "9  06073      San Diego     California   3338330.0     2056.0   \n",
      "\n",
      "   active_cases_100k  cur_7rollavg_cases  cur_7rollavg_deaths   curr7_case  \\\n",
      "0          26.274719            1.581349             0.052132    13.000000   \n",
      "1         129.877619            6.560036             0.685129   337.857143   \n",
      "2          70.126448            5.020278             0.197932   159.428571   \n",
      "3         210.348476           17.099871             0.210205   767.000000   \n",
      "4         177.535711           13.016240             0.385635  1306.714286   \n",
      "5          22.045261            1.904414             0.044461    36.714286   \n",
      "6          93.667551            5.437729             0.355407    43.714286   \n",
      "7          43.332815            2.803507             0.032410    24.714286   \n",
      "8          42.253908            2.926678             0.026131    16.000000   \n",
      "9          61.587680            4.240786             0.034234   141.571429   \n",
      "\n",
      "   curr7_death  prev_7rollavg_cases  prev_7rollavg_deaths   prev7_case  \\\n",
      "0     0.428571             2.172182              0.069510    17.857143   \n",
      "1    35.285714            11.993910              0.834914   617.714286   \n",
      "2     6.285714             4.997786              0.134954   158.714286   \n",
      "3     9.428571            12.949911              0.184726   580.857143   \n",
      "4    38.714286            12.346004              0.385635  1239.428571   \n",
      "5     0.857143             1.244909              0.007410    24.000000   \n",
      "6     2.857143             7.943350              0.621962    63.857143   \n",
      "7     0.285714             3.386895              0.000000    29.857143   \n",
      "8     0.142857             3.109595              0.000000    17.000000   \n",
      "9     1.142857             4.557454              0.000000   152.142857   \n",
      "\n",
      "   prev7_death  \n",
      "0     0.571429  \n",
      "1    43.000000  \n",
      "2     4.285714  \n",
      "3     8.285714  \n",
      "4    38.714286  \n",
      "5     0.142857  \n",
      "6     5.000000  \n",
      "7     0.000000  \n",
      "8     0.000000  \n",
      "9     0.000000  \n"
     ]
    }
   ],
   "source": [
    "county_set = pd.merge(prev_curr,\n",
    "                 previous_w_pop[['fips','prev_7rollavg_cases', 'prev_7rollavg_deaths','prev7_case','prev7_death']],\n",
    "                 on='fips', \n",
    "                how='left')\n",
    "print(county_set.head(10))"
   ]
  },
  {
   "cell_type": "code",
   "execution_count": 141,
   "metadata": {},
   "outputs": [
    {
     "name": "stdout",
     "output_type": "stream",
     "text": [
      "    fips       county       state         pop  case_diff  active_cases_100k  \\\n",
      "0  53061    Snohomish  Washington    822083.0      216.0          26.274719   \n",
      "1  17031         Cook    Illinois   5150233.0     6689.0         129.877619   \n",
      "2  06059       Orange  California   3175692.0     2227.0          70.126448   \n",
      "3  04013     Maricopa     Arizona   4485414.0     9435.0         210.348476   \n",
      "4  06037  Los Angeles  California  10039107.0    17823.0         177.535711   \n",
      "\n",
      "   cur_7rollavg_cases  cur_7rollavg_deaths   curr7_case  curr7_death  \\\n",
      "0            1.581349             0.052132    13.000000     0.428571   \n",
      "1            6.560036             0.685129   337.857143    35.285714   \n",
      "2            5.020278             0.197932   159.428571     6.285714   \n",
      "3           17.099871             0.210205   767.000000     9.428571   \n",
      "4           13.016240             0.385635  1306.714286    38.714286   \n",
      "\n",
      "   prev_7rollavg_cases  prev_7rollavg_deaths   prev7_case  prev7_death  \\\n",
      "0             2.172182              0.069510    17.857143     0.571429   \n",
      "1            11.993910              0.834914   617.714286    43.000000   \n",
      "2             4.997786              0.134954   158.714286     4.285714   \n",
      "3            12.949911              0.184726   580.857143     8.285714   \n",
      "4            12.346004              0.385635  1239.428571    38.714286   \n",
      "\n",
      "   roll7case_diff  roll7death_diff  \n",
      "0       -0.272000        -0.250000  \n",
      "1       -0.453053        -0.179402  \n",
      "2        0.004500         0.466667  \n",
      "3        0.320462         0.137931  \n",
      "4        0.054288         0.000000  \n"
     ]
    }
   ],
   "source": [
    "#Create indicators for rolling averages\n",
    "county_set['roll7case_diff'] = ((county_set['cur_7rollavg_cases']-county_set['prev_7rollavg_cases'])/county_set['prev_7rollavg_cases'])\n",
    "county_set['roll7death_diff'] = ((county_set['cur_7rollavg_deaths']-county_set['prev_7rollavg_deaths'])/county_set['prev_7rollavg_deaths'])\n",
    "\n",
    "print(county_set.head())"
   ]
  },
  {
   "cell_type": "code",
   "execution_count": 142,
   "metadata": {},
   "outputs": [],
   "source": [
    "#Write to CSV\n",
    "county_set.to_csv('CountyMAMV2.csv') "
   ]
  },
  {
   "cell_type": "code",
   "execution_count": null,
   "metadata": {},
   "outputs": [],
   "source": []
  }
 ],
 "metadata": {
  "kernelspec": {
   "display_name": "Python 3",
   "language": "python",
   "name": "python3"
  },
  "language_info": {
   "codemirror_mode": {
    "name": "ipython",
    "version": 3
   },
   "file_extension": ".py",
   "mimetype": "text/x-python",
   "name": "python",
   "nbconvert_exporter": "python",
   "pygments_lexer": "ipython3",
   "version": "3.7.4"
  }
 },
 "nbformat": 4,
 "nbformat_minor": 2
}
