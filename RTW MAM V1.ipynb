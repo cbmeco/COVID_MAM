{
 "cells": [
  {
   "cell_type": "markdown",
   "metadata": {},
   "source": [
    "# RTW MAM Model V1 \n",
    "# County Data First"
   ]
  },
  {
   "cell_type": "code",
   "execution_count": 42,
   "metadata": {},
   "outputs": [],
   "source": [
    "import os\n",
    "import numpy as np\n",
    "import pandas as pd\n",
    "import matplotlib.pyplot as plt\n",
    "import json\n",
    "import csv\n",
    "import pickle"
   ]
  },
  {
   "cell_type": "code",
   "execution_count": 43,
   "metadata": {},
   "outputs": [],
   "source": [
    "#SET DATE FILTERS & FileName\n",
    "\n",
    "file = 'CountyMAM2_July4.csv'\n",
    "state_file = 'State_MAM2_July4.csv'\n",
    "\n",
    "preval_start = '2020-06-21'\n",
    "preval_end = '2020-07-04'\n",
    "\n",
    "curr_start = '2020-06-28'\n",
    "curr_end = '2020-07-04'\n",
    "\n",
    "prev_start = '2020-06-21'\n",
    "prev_end = '2020-06-27'\n",
    "\n",
    "curr_test_start = [int(20200704)]\n",
    "curr_test_end = [int(20200628)]\n",
    "prev_test_start = [int(20200627)]\n",
    "prev_test_end = [int(20200621)]"
   ]
  },
  {
   "cell_type": "code",
   "execution_count": 44,
   "metadata": {},
   "outputs": [],
   "source": [
    "#UPDATES NEEDED - bring in base file, within base file add in state 2 digit codes\n",
    "#Need to add in the NYC FIPS dummy code\n",
    "\n",
    "#Bring in County Data set\n",
    "nytimes = \"https://raw.githubusercontent.com/nytimes/covid-19-data/master/us-counties.csv\"\n",
    "counties = pd.read_csv(nytimes,dtype={'fips': str})\n",
    "\n",
    "\n",
    "\n",
    "base = \"https://raw.githubusercontent.com/cbmeco/COVID_MAM/master/base_rtw_v1.csv\"\n",
    "pop_df = pd.read_csv(base,\n",
    "                dtype={'fips': str})\n",
    "\n",
    "state_base = \"https://raw.githubusercontent.com/cbmeco/COVID_MAM/master/state_base.csv\"\n",
    "state_pop_df = pd.read_csv(state_base)\n",
    "#pop_df = pd.read_csv(\"base_rtw_v1.csv\",\n",
    "#                dtype={'fips': str})\n",
    "\n",
    "#base['fips2'] = np.where(base['county']=='New York City','36067',base['fips'])\n",
    "\n",
    "counties.loc[counties['county'] == 'New York City', 'fips'] = '36067'"
   ]
  },
  {
   "cell_type": "markdown",
   "metadata": {},
   "source": [
    "# Create Active Case Count"
   ]
  },
  {
   "cell_type": "code",
   "execution_count": 45,
   "metadata": {},
   "outputs": [
    {
     "name": "stdout",
     "output_type": "stream",
     "text": [
      "             date   county    state   fips  cases  deaths\n",
      "9480   2020-03-24  Autauga  Alabama  01001      1       0\n",
      "10835  2020-03-25  Autauga  Alabama  01001      4       0\n",
      "12367  2020-03-26  Autauga  Alabama  01001      6       0\n",
      "14025  2020-03-27  Autauga  Alabama  01001      6       0\n",
      "15803  2020-03-28  Autauga  Alabama  01001      6       0\n"
     ]
    }
   ],
   "source": [
    "#Create new cases field\n",
    "#Sort df by Fips and Date\n",
    "counties.sort_values(by=['fips','date'],inplace=True, ascending=True)\n",
    "print(counties.head())\n",
    "\n",
    "#Take difference between rows for new case and new death numbers\n",
    "counties['case_diff'] = counties.cases.diff()\n",
    "counties['death_diff'] = counties.deaths.diff()\n"
   ]
  },
  {
   "cell_type": "code",
   "execution_count": 46,
   "metadata": {},
   "outputs": [],
   "source": [
    "#Filter for past 14 days\n",
    "#range_14 = counties[counties['date']>=preval_start]\n",
    "\n",
    "range_14 = counties[(counties['date']>=preval_start) & (counties['date']<=preval_end)]\n"
   ]
  },
  {
   "cell_type": "code",
   "execution_count": 47,
   "metadata": {},
   "outputs": [],
   "source": [
    "#Group by FIPS, sum up new Cases for prevalence - for 7 day averages will take mean after filtering for 7 days\n",
    "prevalence_grouped = range_14.groupby(['fips'], as_index=False).sum()\n"
   ]
  },
  {
   "cell_type": "code",
   "execution_count": 48,
   "metadata": {},
   "outputs": [],
   "source": [
    "#Join in Prevalence to \n",
    "prevalence_w_pop = pd.merge(pop_df,\n",
    "                 prevalence_grouped[['fips','case_diff']],\n",
    "                 on='fips', \n",
    "                how='left')"
   ]
  },
  {
   "cell_type": "code",
   "execution_count": 49,
   "metadata": {},
   "outputs": [
    {
     "name": "stdout",
     "output_type": "stream",
     "text": [
      "    fips         County       State state_code Level 6 NBCU Flag  \\\n",
      "0  36061  New York City    New York         NY     NaN         Y   \n",
      "1  06037    Los Angeles  California         CA     NaN         Y   \n",
      "2  17031           Cook    Illinois         IL     NaN         Y   \n",
      "3  48195       Hansford       Texas         TX     NaN       NaN   \n",
      "4  04013       Maricopa     Arizona         AZ     NaN         Y   \n",
      "\n",
      "   Tech Ops EE Count    CAE  Cable Stores  Business Services  Total CCC  \\\n",
      "0                0.0    0.0           0.0                0.0        0.0   \n",
      "1                0.0    0.0           0.0                2.0       98.0   \n",
      "2              965.0  356.0         201.0              146.0     3640.0   \n",
      "3                0.0    0.0           0.0                0.0        0.0   \n",
      "4                0.0    0.0           0.0                3.0        9.0   \n",
      "\n",
      "        Geo Area %Retail Closed in County Updated 5/26      Division  \\\n",
      "0            NaN                                   NaN     Northeast   \n",
      "1            NaN                                   NaN          West   \n",
      "2  Chicago Metro                                   70%       Central   \n",
      "3            NaN                                   NaN  Headquarters   \n",
      "4            NaN                                   NaN          West   \n",
      "\n",
      "         Region         pop   state_pop  case_diff  active_cases_100k  \n",
      "0           NaN  18804000.0  20100000.0        NaN                NaN  \n",
      "1           NaN  10039107.0  39937489.0    31861.0         317.368866  \n",
      "2  Central Care   5150233.0  12659682.0     5355.0         103.975878  \n",
      "3           NaN      5399.0  29472295.0        8.0         148.175588  \n",
      "4           NaN   4485414.0   7378494.0    31526.0         702.855968  \n"
     ]
    }
   ],
   "source": [
    "prevalence_w_pop['active_cases_100k'] = ((prevalence_w_pop['case_diff']/prevalence_w_pop['pop'])*100000)\n",
    "print(prevalence_w_pop.head())"
   ]
  },
  {
   "cell_type": "markdown",
   "metadata": {},
   "source": [
    "# Create 7 Day Rolling Avgs for Cases & Deaths"
   ]
  },
  {
   "cell_type": "code",
   "execution_count": 50,
   "metadata": {},
   "outputs": [],
   "source": [
    "#Filter Diff datasets for current and previous 7 day periods\n",
    "\n",
    "#join prev and current together with pop\n",
    "\n",
    "range_current7 = counties[(counties['date']>=curr_start) & (counties['date']<=curr_end)]\n",
    "\n",
    "range_prev7 = counties[(counties['date']>=prev_start) & (counties['date']<=prev_end)]\n"
   ]
  },
  {
   "cell_type": "code",
   "execution_count": 51,
   "metadata": {},
   "outputs": [],
   "source": [
    "#Group by with mean\n",
    "current_grouped = range_current7.groupby(['fips'],as_index=False).mean()\n",
    "previous_grouped = range_prev7.groupby(['fips'], as_index=False).mean()\n",
    "\n",
    "current_grouped['curr7_case'] = current_grouped['case_diff']\n",
    "current_grouped['curr7_death'] = current_grouped['death_diff']\n",
    "previous_grouped['prev7_case'] = previous_grouped['case_diff']\n",
    "previous_grouped['prev7_death'] = previous_grouped['death_diff']"
   ]
  },
  {
   "cell_type": "code",
   "execution_count": 52,
   "metadata": {},
   "outputs": [
    {
     "name": "stdout",
     "output_type": "stream",
     "text": [
      "    fips         County       State state_code Level 6 NBCU Flag  \\\n",
      "0  36061  New York City    New York         NY     NaN         Y   \n",
      "1  06037    Los Angeles  California         CA     NaN         Y   \n",
      "2  17031           Cook    Illinois         IL     NaN         Y   \n",
      "3  48195       Hansford       Texas         TX     NaN       NaN   \n",
      "4  04013       Maricopa     Arizona         AZ     NaN         Y   \n",
      "5  06073      San Diego  California         CA     NaN         Y   \n",
      "6  06059         Orange  California         CA     NaN       NaN   \n",
      "7  12086     Miami-Dade     Florida         FL     NaN         Y   \n",
      "8  48107         Crosby       Texas         TX     NaN       NaN   \n",
      "9  06065      Riverside  California         CA     NaN       NaN   \n",
      "\n",
      "   Tech Ops EE Count    CAE  Cable Stores  Business Services  Total CCC  \\\n",
      "0                0.0    0.0           0.0                0.0        0.0   \n",
      "1                0.0    0.0           0.0                2.0       98.0   \n",
      "2              965.0  356.0         201.0              146.0     3640.0   \n",
      "3                0.0    0.0           0.0                0.0        0.0   \n",
      "4                0.0    0.0           0.0                3.0        9.0   \n",
      "5                0.0    0.0           0.0                0.0       23.0   \n",
      "6                0.0    0.0           0.0                0.0       50.0   \n",
      "7              388.0    0.0          82.0               50.0      666.0   \n",
      "8                0.0    0.0           0.0                0.0        0.0   \n",
      "9                0.0    0.0           0.0                0.0        0.0   \n",
      "\n",
      "        Geo Area %Retail Closed in County Updated 5/26      Division  \\\n",
      "0            NaN                                   NaN     Northeast   \n",
      "1            NaN                                   NaN          West   \n",
      "2  Chicago Metro                                   70%       Central   \n",
      "3            NaN                                   NaN  Headquarters   \n",
      "4            NaN                                   NaN          West   \n",
      "5            NaN                                   NaN          West   \n",
      "6            NaN                                   NaN          West   \n",
      "7    Miami Metro                                  100%       Central   \n",
      "8            NaN                                   NaN  Headquarters   \n",
      "9            NaN                                   NaN           NaN   \n",
      "\n",
      "           Region         pop   state_pop   curr7_case  curr7_death  \n",
      "0             NaN  18804000.0  20100000.0          NaN          NaN  \n",
      "1             NaN  10039107.0  39937489.0  2589.428571    24.142857  \n",
      "2    Central Care   5150233.0  12659682.0   404.714286    12.285714  \n",
      "3             NaN      5399.0  29472295.0     0.428571     0.000000  \n",
      "4             NaN   4485414.0   7378494.0  2493.571429    19.857143  \n",
      "5             NaN   3338330.0  39937489.0   408.714286     3.857143  \n",
      "6             NaN   3175692.0  39937489.0   880.000000     5.285714  \n",
      "7  CD SS/ Div Off   2716940.0  21992985.0  1881.000000    13.000000  \n",
      "8             NaN      5737.0  29472295.0     1.571429     0.000000  \n",
      "9             NaN   2470546.0  39937489.0   759.000000     5.857143  \n"
     ]
    }
   ],
   "source": [
    "#Merge both sets with population\n",
    "current_w_pop = pd.merge(pop_df,\n",
    "                 current_grouped[['fips','curr7_case', 'curr7_death']],\n",
    "                 on='fips', \n",
    "                how='left')\n",
    "print(current_w_pop.head(10))\n",
    "\n",
    "previous_w_pop = pd.merge(pop_df,\n",
    "                 previous_grouped[['fips','prev7_case', 'prev7_death']],\n",
    "                 on='fips', \n",
    "                how='left')"
   ]
  },
  {
   "cell_type": "code",
   "execution_count": 53,
   "metadata": {},
   "outputs": [],
   "source": [
    "current_w_pop['cur_7rollavg_cases'] = ((current_w_pop['curr7_case']/current_w_pop['pop'])*100000)\n",
    "current_w_pop['cur_7rollavg_deaths'] = ((current_w_pop['curr7_death']/current_w_pop['pop'])*100000)"
   ]
  },
  {
   "cell_type": "code",
   "execution_count": 54,
   "metadata": {},
   "outputs": [],
   "source": [
    "previous_w_pop['prev_7rollavg_cases'] = ((previous_w_pop['prev7_case']/previous_w_pop['pop'])*100000)\n",
    "previous_w_pop['prev_7rollavg_deaths'] = ((previous_w_pop['prev7_death']/previous_w_pop['pop'])*100000)"
   ]
  },
  {
   "cell_type": "code",
   "execution_count": 55,
   "metadata": {},
   "outputs": [],
   "source": [
    "#Merge with prevalence dataset\n",
    "prev_curr = pd.merge(prevalence_w_pop,\n",
    "                 current_w_pop[['fips','cur_7rollavg_cases', 'cur_7rollavg_deaths','curr7_case','curr7_death']],\n",
    "                 on='fips', \n",
    "                how='left')"
   ]
  },
  {
   "cell_type": "code",
   "execution_count": 56,
   "metadata": {},
   "outputs": [],
   "source": [
    "county_set = pd.merge(prev_curr,\n",
    "                 previous_w_pop[['fips','prev_7rollavg_cases', 'prev_7rollavg_deaths','prev7_case','prev7_death']],\n",
    "                 on='fips', \n",
    "                how='left')"
   ]
  },
  {
   "cell_type": "code",
   "execution_count": 57,
   "metadata": {},
   "outputs": [
    {
     "name": "stdout",
     "output_type": "stream",
     "text": [
      "    fips         County       State state_code Level 6 NBCU Flag  \\\n",
      "0  36061  New York City    New York         NY     NaN         Y   \n",
      "1  06037    Los Angeles  California         CA     NaN         Y   \n",
      "2  17031           Cook    Illinois         IL     NaN         Y   \n",
      "3  48195       Hansford       Texas         TX     NaN       NaN   \n",
      "4  04013       Maricopa     Arizona         AZ     NaN         Y   \n",
      "\n",
      "   Tech Ops EE Count    CAE  Cable Stores  Business Services       ...         \\\n",
      "0                0.0    0.0           0.0                0.0       ...          \n",
      "1                0.0    0.0           0.0                2.0       ...          \n",
      "2              965.0  356.0         201.0              146.0       ...          \n",
      "3                0.0    0.0           0.0                0.0       ...          \n",
      "4                0.0    0.0           0.0                3.0       ...          \n",
      "\n",
      "   cur_7rollavg_cases cur_7rollavg_deaths   curr7_case curr7_death  \\\n",
      "0                 NaN                 NaN          NaN         NaN   \n",
      "1           25.793415            0.240488  2589.428571   24.142857   \n",
      "2            7.858174            0.238547   404.714286   12.285714   \n",
      "3            7.937978            0.000000     0.428571    0.000000   \n",
      "4           55.592894            0.442705  2493.571429   19.857143   \n",
      "\n",
      "  prev_7rollavg_cases  prev_7rollavg_deaths   prev7_case  prev7_death  \\\n",
      "0                 NaN                   NaN          NaN          NaN   \n",
      "1           19.544994              0.249026  1962.142857    25.000000   \n",
      "2            6.995523              0.404975   360.285714    20.857143   \n",
      "3           13.229963              0.000000     0.714286     0.000000   \n",
      "4           44.815102              0.343972  2010.142857    15.428571   \n",
      "\n",
      "   roll7case_diff  roll7death_diff  \n",
      "0             NaN              NaN  \n",
      "1        0.319694        -0.034286  \n",
      "2        0.123315        -0.410959  \n",
      "3       -0.400000              NaN  \n",
      "4        0.240495         0.287037  \n",
      "\n",
      "[5 rows x 29 columns]\n"
     ]
    }
   ],
   "source": [
    "#Create indicators for rolling averages\n",
    "county_set['roll7case_diff'] = ((county_set['cur_7rollavg_cases']-county_set['prev_7rollavg_cases'])/county_set['prev_7rollavg_cases'])\n",
    "county_set['roll7death_diff'] = ((county_set['cur_7rollavg_deaths']-county_set['prev_7rollavg_deaths'])/county_set['prev_7rollavg_deaths'])\n",
    "\n",
    "print(county_set.head())"
   ]
  },
  {
   "cell_type": "markdown",
   "metadata": {},
   "source": [
    "# State Level Data"
   ]
  },
  {
   "cell_type": "code",
   "execution_count": 58,
   "metadata": {},
   "outputs": [],
   "source": [
    "# Pull in NYTimes state data, diff, do same 7 day rolling avg counts\n",
    "# pull in COVID tracking test data. calculate pos % then rolling avgs\n",
    "# Manually pull in Rt, might drop this metric"
   ]
  },
  {
   "cell_type": "code",
   "execution_count": 59,
   "metadata": {},
   "outputs": [],
   "source": [
    "#Bring in state level NYT Data\n",
    "nytimes_state = \"https://raw.githubusercontent.com/nytimes/covid-19-data/master/us-states.csv\"\n",
    "state= pd.read_csv(nytimes_state)"
   ]
  },
  {
   "cell_type": "code",
   "execution_count": 60,
   "metadata": {},
   "outputs": [
    {
     "name": "stdout",
     "output_type": "stream",
     "text": [
      "           date    state  fips  cases  deaths    State\n",
      "586  2020-03-13  Alabama     1      6       0  Alabama\n",
      "637  2020-03-14  Alabama     1     12       0  Alabama\n",
      "689  2020-03-15  Alabama     1     23       0  Alabama\n",
      "742  2020-03-16  Alabama     1     29       0  Alabama\n",
      "795  2020-03-17  Alabama     1     39       0  Alabama\n"
     ]
    }
   ],
   "source": [
    "#Create new cases field\n",
    "#Sort df by Fips and Date\n",
    "state['State'] = state['state']\n",
    "state.sort_values(by=['fips','date'],inplace=True, ascending=True)\n",
    "print(state.head())\n",
    "\n",
    "#Take difference between rows for new case and new death numbers\n",
    "state['case_diff'] = state.cases.diff()\n",
    "state['death_diff'] = state.deaths.diff()"
   ]
  },
  {
   "cell_type": "code",
   "execution_count": 61,
   "metadata": {},
   "outputs": [],
   "source": [
    "##CREATE State Prevalence measure\n",
    "#Filter for past 14 days\n",
    "\n",
    "state_range_14 = state[(state['date']>=preval_start) & (state['date']<=preval_end)]"
   ]
  },
  {
   "cell_type": "code",
   "execution_count": 62,
   "metadata": {},
   "outputs": [],
   "source": [
    "#create state group for prevalence\n",
    "\n",
    "state_prevalence_grouped = state_range_14.groupby(['State'], as_index=False).sum()\n",
    "\n",
    "state_prevalence_grouped['state_active'] = state_prevalence_grouped['case_diff']"
   ]
  },
  {
   "cell_type": "code",
   "execution_count": 63,
   "metadata": {},
   "outputs": [],
   "source": [
    "#Take Current and previous rolling averages\n",
    "\n",
    "state_range_current7 = state[(state['date']>=curr_start) & (state['date']<=curr_end)]\n",
    "state_range_prev7 = state[(state['date']>=prev_start) & (state['date']<=prev_end)]\n"
   ]
  },
  {
   "cell_type": "code",
   "execution_count": 64,
   "metadata": {},
   "outputs": [],
   "source": [
    "#Groupby Means\n",
    "#Group by with mean\n",
    "state_current_grouped = state_range_current7.groupby(['State'],as_index=False).mean()\n",
    "state_previous_grouped = state_range_prev7.groupby(['State'], as_index=False).mean()\n",
    "\n",
    "state_current_grouped['state_curr7_case'] = state_current_grouped['case_diff']\n",
    "state_previous_grouped['state_prev7_case'] = state_previous_grouped['case_diff']\n",
    "state_current_grouped['state_curr7_death'] = state_current_grouped['death_diff']\n",
    "state_previous_grouped['state_prev7_death'] = state_previous_grouped['death_diff']"
   ]
  },
  {
   "cell_type": "code",
   "execution_count": 65,
   "metadata": {},
   "outputs": [
    {
     "name": "stdout",
     "output_type": "stream",
     "text": [
      "    fips         County       State state_code Level 6 NBCU Flag  \\\n",
      "0  36061  New York City    New York         NY     NaN         Y   \n",
      "1  06037    Los Angeles  California         CA     NaN         Y   \n",
      "2  17031           Cook    Illinois         IL     NaN         Y   \n",
      "3  48195       Hansford       Texas         TX     NaN       NaN   \n",
      "4  04013       Maricopa     Arizona         AZ     NaN         Y   \n",
      "5  06073      San Diego  California         CA     NaN         Y   \n",
      "6  06059         Orange  California         CA     NaN       NaN   \n",
      "7  12086     Miami-Dade     Florida         FL     NaN         Y   \n",
      "8  48107         Crosby       Texas         TX     NaN       NaN   \n",
      "9  06065      Riverside  California         CA     NaN       NaN   \n",
      "\n",
      "   Tech Ops EE Count    CAE  Cable Stores  Business Services  \\\n",
      "0                0.0    0.0           0.0                0.0   \n",
      "1                0.0    0.0           0.0                2.0   \n",
      "2              965.0  356.0         201.0              146.0   \n",
      "3                0.0    0.0           0.0                0.0   \n",
      "4                0.0    0.0           0.0                3.0   \n",
      "5                0.0    0.0           0.0                0.0   \n",
      "6                0.0    0.0           0.0                0.0   \n",
      "7              388.0    0.0          82.0               50.0   \n",
      "8                0.0    0.0           0.0                0.0   \n",
      "9                0.0    0.0           0.0                0.0   \n",
      "\n",
      "         ...          curr7_death prev_7rollavg_cases prev_7rollavg_deaths  \\\n",
      "0        ...                  NaN                 NaN                  NaN   \n",
      "1        ...            24.142857           19.544994             0.249026   \n",
      "2        ...            12.285714            6.995523             0.404975   \n",
      "3        ...             0.000000           13.229963             0.000000   \n",
      "4        ...            19.857143           44.815102             0.343972   \n",
      "5        ...             3.857143           10.069192             0.094145   \n",
      "6        ...             5.285714           12.015379             0.251914   \n",
      "7        ...            13.000000           34.082460             0.383835   \n",
      "8        ...             0.000000           17.430713             0.000000   \n",
      "9        ...             5.857143           17.809828             0.161908   \n",
      "\n",
      "    prev7_case prev7_death  roll7case_diff  roll7death_diff  state_active  \\\n",
      "0          NaN         NaN             NaN              NaN        9249.0   \n",
      "1  1962.142857   25.000000        0.319694        -0.034286       89856.0   \n",
      "2   360.285714   20.857143        0.123315        -0.410959       10616.0   \n",
      "3     0.714286    0.000000       -0.400000              NaN       84113.0   \n",
      "4  2010.142857   15.428571        0.240495         0.287037       44418.0   \n",
      "5   336.142857    3.142857        0.215895         0.227273       89856.0   \n",
      "6   381.571429    8.000000        1.306252        -0.339286       89856.0   \n",
      "7   926.000000   10.428571        1.031317         0.246575       96255.0   \n",
      "8     1.000000    0.000000        0.571429              NaN       84113.0   \n",
      "9   440.000000    4.000000        0.725000         0.464286       89856.0   \n",
      "\n",
      "   state_curr7_case  state_curr7_death  \n",
      "0        659.571429         107.857143  \n",
      "1       7608.142857          61.000000  \n",
      "2        802.142857          21.571429  \n",
      "3       6724.000000          35.428571  \n",
      "4       3494.857143          34.285714  \n",
      "5       7608.142857          61.000000  \n",
      "6       7608.142857          61.000000  \n",
      "7       8215.285714          44.571429  \n",
      "8       6724.000000          35.428571  \n",
      "9       7608.142857          61.000000  \n",
      "\n",
      "[10 rows x 32 columns]\n"
     ]
    }
   ],
   "source": [
    "#Merge both sets with base file\n",
    "\n",
    "state_active= pd.merge(county_set,\n",
    "                 state_prevalence_grouped[['State','state_active',\n",
    "                                       ]],\n",
    "                 on='State', \n",
    "                how='left')\n",
    "#print(state_current_w_pop.head(10))\n",
    "\n",
    "state_current_w_pop = pd.merge(state_active,\n",
    "                 state_current_grouped[['State','state_curr7_case',\n",
    "                                       'state_curr7_death']],\n",
    "                 on='State', \n",
    "                how='left')\n",
    "print(state_current_w_pop.head(10))\n",
    "\n",
    "county_state_df = pd.merge(state_current_w_pop,\n",
    "                 state_previous_grouped[['State','state_prev7_case','state_prev7_death']],\n",
    "                 on='State', \n",
    "                how='left')"
   ]
  },
  {
   "cell_type": "code",
   "execution_count": 66,
   "metadata": {
    "scrolled": true
   },
   "outputs": [
    {
     "name": "stdout",
     "output_type": "stream",
     "text": [
      "    fips         County       State state_code Level 6 NBCU Flag  \\\n",
      "0  36061  New York City    New York         NY     NaN         Y   \n",
      "1  06037    Los Angeles  California         CA     NaN         Y   \n",
      "2  17031           Cook    Illinois         IL     NaN         Y   \n",
      "3  48195       Hansford       Texas         TX     NaN       NaN   \n",
      "4  04013       Maricopa     Arizona         AZ     NaN         Y   \n",
      "\n",
      "   Tech Ops EE Count    CAE  Cable Stores  Business Services  \\\n",
      "0                0.0    0.0           0.0                0.0   \n",
      "1                0.0    0.0           0.0                2.0   \n",
      "2              965.0  356.0         201.0              146.0   \n",
      "3                0.0    0.0           0.0                0.0   \n",
      "4                0.0    0.0           0.0                3.0   \n",
      "\n",
      "             ...             state_curr7_death state_prev7_case  \\\n",
      "0            ...                    107.857143       661.714286   \n",
      "1            ...                     61.000000      5228.428571   \n",
      "2            ...                     21.571429       714.428571   \n",
      "3            ...                     35.428571      5292.142857   \n",
      "4            ...                     34.285714      2850.571429   \n",
      "\n",
      "  state_prev7_death state_curr7_case100k state_curr7_death100k  \\\n",
      "0         38.000000             3.281450              0.536603   \n",
      "1         58.142857            19.050128              0.152739   \n",
      "2         33.857143             6.336201              0.170395   \n",
      "3         30.285714            22.814647              0.120210   \n",
      "4         33.428571            47.365453              0.464671   \n",
      "\n",
      "   state_prev7_case100k  state_prev7_death100k  state_roll7case_diff  \\\n",
      "0              3.292111               0.189055             -0.003238   \n",
      "1             13.091531               0.145585              0.455149   \n",
      "2              5.643337               0.267441              0.122775   \n",
      "3             17.956331               0.102760              0.270563   \n",
      "4             38.633513               0.453054              0.226020   \n",
      "\n",
      "   state_roll7death_diff  state_prevalence_per100k  \n",
      "0               1.838346                 46.014925  \n",
      "1               0.049140                224.991611  \n",
      "2              -0.362869                 83.856767  \n",
      "3               0.169811                285.396845  \n",
      "4               0.025641                601.992764  \n",
      "\n",
      "[5 rows x 41 columns]\n"
     ]
    }
   ],
   "source": [
    "#Create state rolling avg indicator\n",
    "#####NEED TO ADD IN STATE POP to create per 100k \n",
    "\n",
    "county_state_df['state_curr7_case100k'] = ((county_state_df['state_curr7_case']/county_state_df['state_pop'])*100000)\n",
    "county_state_df['state_curr7_death100k'] = ((county_state_df['state_curr7_death']/county_state_df['state_pop'])*100000)\n",
    "county_state_df['state_prev7_case100k'] = ((county_state_df['state_prev7_case']/county_state_df['state_pop'])*100000)\n",
    "county_state_df['state_prev7_death100k'] = ((county_state_df['state_prev7_death']/county_state_df['state_pop'])*100000)\n",
    "\n",
    "\n",
    "county_state_df['state_roll7case_diff'] = ((county_state_df['state_curr7_case100k']-county_state_df['state_prev7_case100k'])/county_state_df['state_prev7_case100k'])\n",
    "\n",
    "\n",
    "\n",
    "county_state_df['state_roll7death_diff'] = ((county_state_df['state_curr7_death100k']-county_state_df['state_prev7_death100k'])/county_state_df['state_prev7_death100k'])\n",
    "county_state_df['state_prevalence_per100k'] = ((county_state_df['state_active']/county_state_df['state_pop'])*100000)\n",
    "\n",
    "print(county_state_df.head())"
   ]
  },
  {
   "cell_type": "markdown",
   "metadata": {},
   "source": [
    "# COVID TRACKING PROJ DATA"
   ]
  },
  {
   "cell_type": "code",
   "execution_count": 67,
   "metadata": {},
   "outputs": [
    {
     "name": "stderr",
     "output_type": "stream",
     "text": [
      "C:\\Users\\ccolam127\\AppData\\Local\\Continuum\\anaconda3\\lib\\site-packages\\ipykernel_launcher.py:6: SettingWithCopyWarning: \n",
      "A value is trying to be set on a copy of a slice from a DataFrame.\n",
      "Try using .loc[row_indexer,col_indexer] = value instead\n",
      "\n",
      "See the caveats in the documentation: http://pandas.pydata.org/pandas-docs/stable/indexing.html#indexing-view-versus-copy\n",
      "  \n"
     ]
    }
   ],
   "source": [
    "#########################################\n",
    "#Bring in COVID TRACKING data\n",
    "url_all = \"https://covidtracking.com/api/v1/states/daily.csv\"\n",
    "testing_all = pd.read_csv(url_all)\n",
    "testing = testing_all[['date','state','positiveIncrease','negativeIncrease', 'totalTestResultsIncrease']]\n",
    "testing['state_code'] = testing['state']"
   ]
  },
  {
   "cell_type": "code",
   "execution_count": 68,
   "metadata": {},
   "outputs": [
    {
     "name": "stderr",
     "output_type": "stream",
     "text": [
      "C:\\Users\\ccolam127\\AppData\\Local\\Continuum\\anaconda3\\lib\\site-packages\\ipykernel_launcher.py:2: SettingWithCopyWarning: \n",
      "A value is trying to be set on a copy of a slice from a DataFrame.\n",
      "Try using .loc[row_indexer,col_indexer] = value instead\n",
      "\n",
      "See the caveats in the documentation: http://pandas.pydata.org/pandas-docs/stable/indexing.html#indexing-view-versus-copy\n",
      "  \n",
      "C:\\Users\\ccolam127\\AppData\\Local\\Continuum\\anaconda3\\lib\\site-packages\\ipykernel_launcher.py:5: SettingWithCopyWarning: \n",
      "A value is trying to be set on a copy of a slice from a DataFrame.\n",
      "Try using .loc[row_indexer,col_indexer] = value instead\n",
      "\n",
      "See the caveats in the documentation: http://pandas.pydata.org/pandas-docs/stable/indexing.html#indexing-view-versus-copy\n",
      "  \"\"\"\n"
     ]
    }
   ],
   "source": [
    "curr_testing = testing[(testing['date']>=curr_test_end) & (testing['date']<=curr_test_start)]\n",
    "curr_testing['curr_pos_%'] = (curr_testing['positiveIncrease']/curr_testing['totalTestResultsIncrease'])\n",
    "\n",
    "prev_testing = testing[(testing['date']>=prev_test_end) & (testing['date']<=prev_test_start)]\n",
    "prev_testing['prev_pos_%'] = (prev_testing['positiveIncrease']/prev_testing['totalTestResultsIncrease'])"
   ]
  },
  {
   "cell_type": "code",
   "execution_count": 69,
   "metadata": {},
   "outputs": [],
   "source": [
    "\n",
    "#Group by with mean\n",
    "curr_test_grouped = curr_testing.groupby(['state_code'],as_index=False).mean()\n",
    "prev_test_grouped = prev_testing.groupby(['state_code'], as_index=False).mean()\n"
   ]
  },
  {
   "cell_type": "code",
   "execution_count": 70,
   "metadata": {},
   "outputs": [
    {
     "name": "stdout",
     "output_type": "stream",
     "text": [
      "    fips         County       State state_code Level 6 NBCU Flag  \\\n",
      "0  36061  New York City    New York         NY     NaN         Y   \n",
      "1  06037    Los Angeles  California         CA     NaN         Y   \n",
      "2  17031           Cook    Illinois         IL     NaN         Y   \n",
      "3  48195       Hansford       Texas         TX     NaN       NaN   \n",
      "4  04013       Maricopa     Arizona         AZ     NaN         Y   \n",
      "\n",
      "   Tech Ops EE Count    CAE  Cable Stores  Business Services     ...      \\\n",
      "0                0.0    0.0           0.0                0.0     ...       \n",
      "1                0.0    0.0           0.0                2.0     ...       \n",
      "2              965.0  356.0         201.0              146.0     ...       \n",
      "3                0.0    0.0           0.0                0.0     ...       \n",
      "4                0.0    0.0           0.0                3.0     ...       \n",
      "\n",
      "   state_prev7_case state_prev7_death state_curr7_case100k  \\\n",
      "0        661.714286         38.000000             3.281450   \n",
      "1       5228.428571         58.142857            19.050128   \n",
      "2        714.428571         33.857143             6.336201   \n",
      "3       5292.142857         30.285714            22.814647   \n",
      "4       2850.571429         33.428571            47.365453   \n",
      "\n",
      "  state_curr7_death100k state_prev7_case100k  state_prev7_death100k  \\\n",
      "0              0.536603             3.292111               0.189055   \n",
      "1              0.152739            13.091531               0.145585   \n",
      "2              0.170395             5.643337               0.267441   \n",
      "3              0.120210            17.956331               0.102760   \n",
      "4              0.464671            38.633513               0.453054   \n",
      "\n",
      "   state_roll7case_diff  state_roll7death_diff  state_prevalence_per100k  \\\n",
      "0             -0.003238               1.838346                 46.014925   \n",
      "1              0.455149               0.049140                224.991611   \n",
      "2              0.122775              -0.362869                 83.856767   \n",
      "3              0.270563               0.169811                285.396845   \n",
      "4              0.226020               0.025641                601.992764   \n",
      "\n",
      "   curr_pos_%  \n",
      "0    0.011062  \n",
      "1    0.071221  \n",
      "2    0.026334  \n",
      "3    0.140015  \n",
      "4    0.280260  \n",
      "\n",
      "[5 rows x 42 columns]\n"
     ]
    }
   ],
   "source": [
    "#Merge to County Set\n",
    "\n",
    "curr_merge = pd.merge(county_state_df,\n",
    "                 curr_test_grouped[['state_code','curr_pos_%']],\n",
    "                 on='state_code', \n",
    "                how='left')\n",
    "print(curr_merge.head())\n",
    "\n",
    "mam_v2 = pd.merge(curr_merge,\n",
    "                 prev_test_grouped[['state_code','prev_pos_%']],\n",
    "                 on='state_code', \n",
    "                how='left')\n",
    "\n",
    "\n",
    "mam_v2['testing_diff'] = (mam_v2['curr_pos_%'] - mam_v2['prev_pos_%'])"
   ]
  },
  {
   "cell_type": "code",
   "execution_count": 71,
   "metadata": {},
   "outputs": [],
   "source": [
    "####################################################\n",
    "###Filter out any counties with 0 cases for past 14 days##\n",
    "\n",
    "\n",
    "county_filtered = mam_v2[(mam_v2['active_cases_100k']>=0)]\n"
   ]
  },
  {
   "cell_type": "markdown",
   "metadata": {},
   "source": [
    "# SET INDICATORS"
   ]
  },
  {
   "cell_type": "code",
   "execution_count": 72,
   "metadata": {},
   "outputs": [
    {
     "name": "stderr",
     "output_type": "stream",
     "text": [
      "C:\\Users\\ccolam127\\AppData\\Local\\Continuum\\anaconda3\\lib\\site-packages\\ipykernel_launcher.py:73: SettingWithCopyWarning: \n",
      "A value is trying to be set on a copy of a slice from a DataFrame.\n",
      "Try using .loc[row_indexer,col_indexer] = value instead\n",
      "\n",
      "See the caveats in the documentation: http://pandas.pydata.org/pandas-docs/stable/indexing.html#indexing-view-versus-copy\n",
      "C:\\Users\\ccolam127\\AppData\\Local\\Continuum\\anaconda3\\lib\\site-packages\\ipykernel_launcher.py:74: SettingWithCopyWarning: \n",
      "A value is trying to be set on a copy of a slice from a DataFrame.\n",
      "Try using .loc[row_indexer,col_indexer] = value instead\n",
      "\n",
      "See the caveats in the documentation: http://pandas.pydata.org/pandas-docs/stable/indexing.html#indexing-view-versus-copy\n",
      "C:\\Users\\ccolam127\\AppData\\Local\\Continuum\\anaconda3\\lib\\site-packages\\ipykernel_launcher.py:75: SettingWithCopyWarning: \n",
      "A value is trying to be set on a copy of a slice from a DataFrame.\n",
      "Try using .loc[row_indexer,col_indexer] = value instead\n",
      "\n",
      "See the caveats in the documentation: http://pandas.pydata.org/pandas-docs/stable/indexing.html#indexing-view-versus-copy\n",
      "C:\\Users\\ccolam127\\AppData\\Local\\Continuum\\anaconda3\\lib\\site-packages\\ipykernel_launcher.py:76: SettingWithCopyWarning: \n",
      "A value is trying to be set on a copy of a slice from a DataFrame.\n",
      "Try using .loc[row_indexer,col_indexer] = value instead\n",
      "\n",
      "See the caveats in the documentation: http://pandas.pydata.org/pandas-docs/stable/indexing.html#indexing-view-versus-copy\n",
      "C:\\Users\\ccolam127\\AppData\\Local\\Continuum\\anaconda3\\lib\\site-packages\\ipykernel_launcher.py:78: SettingWithCopyWarning: \n",
      "A value is trying to be set on a copy of a slice from a DataFrame.\n",
      "Try using .loc[row_indexer,col_indexer] = value instead\n",
      "\n",
      "See the caveats in the documentation: http://pandas.pydata.org/pandas-docs/stable/indexing.html#indexing-view-versus-copy\n",
      "C:\\Users\\ccolam127\\AppData\\Local\\Continuum\\anaconda3\\lib\\site-packages\\ipykernel_launcher.py:81: SettingWithCopyWarning: \n",
      "A value is trying to be set on a copy of a slice from a DataFrame.\n",
      "Try using .loc[row_indexer,col_indexer] = value instead\n",
      "\n",
      "See the caveats in the documentation: http://pandas.pydata.org/pandas-docs/stable/indexing.html#indexing-view-versus-copy\n",
      "C:\\Users\\ccolam127\\AppData\\Local\\Continuum\\anaconda3\\lib\\site-packages\\ipykernel_launcher.py:82: SettingWithCopyWarning: \n",
      "A value is trying to be set on a copy of a slice from a DataFrame.\n",
      "Try using .loc[row_indexer,col_indexer] = value instead\n",
      "\n",
      "See the caveats in the documentation: http://pandas.pydata.org/pandas-docs/stable/indexing.html#indexing-view-versus-copy\n",
      "C:\\Users\\ccolam127\\AppData\\Local\\Continuum\\anaconda3\\lib\\site-packages\\ipykernel_launcher.py:83: SettingWithCopyWarning: \n",
      "A value is trying to be set on a copy of a slice from a DataFrame.\n",
      "Try using .loc[row_indexer,col_indexer] = value instead\n",
      "\n",
      "See the caveats in the documentation: http://pandas.pydata.org/pandas-docs/stable/indexing.html#indexing-view-versus-copy\n"
     ]
    }
   ],
   "source": [
    "#Updated 7/1\n",
    "\n",
    "def active(n):\n",
    "    if 0<=n<=49.48: score = 0\n",
    "    elif 49.49<=n<=114.05: score = 1\n",
    "    elif 114.06<=n<=100000: score = 2\n",
    "    else: score = 0\n",
    "    return(score)\n",
    "\n",
    "\n",
    "\n",
    "def roll(n):\n",
    "    if -1<=n<=-0.10: score = 0\n",
    "    elif -0.10<=n<=0.10: score = 1\n",
    "    elif 0.101111<=n<=100: score = 2\n",
    "    else: score = 0\n",
    "    return(score)\n",
    "\n",
    "def roll_hrvd(n):\n",
    "    if -10000<=n<0.10: score = 0\n",
    "    elif 0.10<=n<=10000: score = 0.5  \n",
    "    else: score = 0\n",
    "    return(score)\n",
    "\n",
    "def roll_hrvd_state(n):\n",
    "    if -10000<=n<0.10: score = 0\n",
    "    elif 0.10<=n<=10000: score = 1 \n",
    "    else: score = 0\n",
    "    return(score)\n",
    "\n",
    "def roll_indicator(n):\n",
    "    if -10000<=n<0.10: score = \"Decreasing or Steady\"\n",
    "    elif 0.10<=n<=10000: score = \"Increasing\"  \n",
    "    else: score = \"Decreasing or Steady\"\n",
    "    return(score)\n",
    "\n",
    "#def test(n):\n",
    "#    if -2<=n<=-.01: score = 0\n",
    "#    elif -.011111<=n<=.01: score = 1\n",
    "#    elif 0.01111 <=n<= 100: score =2\n",
    "#    else: score = 0\n",
    "#    return(score)\n",
    "\n",
    "def test7(n):\n",
    "    if -2<=n< 0.03: score = 0\n",
    "    elif 0.03 <=n<.1: score =1\n",
    "    elif 0.1 <=n<0.15: score =2\n",
    "    elif 0.15 <=n<= 1000: score =3\n",
    "    else: score = 0\n",
    "    return(score)\n",
    "\n",
    "#def curr7(n):\n",
    "#    if -2<=n<=4.9999: score = 0\n",
    "#    elif 5 <=n<=9.9999: score =1\n",
    "#    elif 10 <=n<=99999: score =2\n",
    "#    else: score = 0\n",
    "#    return(score)\n",
    "\n",
    "def curr7_hrvd(n):\n",
    "    if -222<=n<= 1.11111: score = 0\n",
    "    elif 1 <n<10: score =1\n",
    "    elif 10 <=n<25: score =2\n",
    "    elif 25 <=n<=99999: score =3\n",
    "    else: score = 0\n",
    "    return(score)\n",
    "\n",
    "def testch(n):\n",
    "    if 0<=n<=0.1: score = 'Decreasing'\n",
    "    elif 1 <=n<= 1.9: score = 'Steady'\n",
    "    else: score = 'Increasing'\n",
    "    return(score)\n",
    "\n",
    "county_filtered['County_Active_100k_Score'] = county_filtered['active_cases_100k'].apply(active)\n",
    "county_filtered['State_Active_100k_Score'] = county_filtered['state_prevalence_per100k'].apply(active)\n",
    "county_filtered['County_Roll_Score'] = county_filtered['roll7case_diff'].apply(roll_hrvd)\n",
    "county_filtered['County Case Trend'] = county_filtered['roll7case_diff'].apply(roll_indicator)\n",
    "\n",
    "county_filtered['State_Roll_Score'] = county_filtered['state_roll7case_diff'].apply(roll_hrvd_state)\n",
    "\n",
    "#county_filtered['State_Testing_Score'] = county_filtered['testing_diff'].apply(test)\n",
    "county_filtered['State_7Day_Pos_Test_Avg'] = county_filtered['curr_pos_%'].apply(test7)\n",
    "county_filtered['State_7Day_New_Case_Rolling_Avg'] = county_filtered['state_curr7_case100k'].apply(curr7_hrvd)\n",
    "county_filtered['County_7Day_New_Case_Rolling_Avg'] = county_filtered['cur_7rollavg_cases'].apply(curr7_hrvd)\n"
   ]
  },
  {
   "cell_type": "code",
   "execution_count": 73,
   "metadata": {},
   "outputs": [
    {
     "name": "stderr",
     "output_type": "stream",
     "text": [
      "C:\\Users\\ccolam127\\AppData\\Local\\Continuum\\anaconda3\\lib\\site-packages\\ipykernel_launcher.py:3: SettingWithCopyWarning: \n",
      "A value is trying to be set on a copy of a slice from a DataFrame.\n",
      "Try using .loc[row_indexer,col_indexer] = value instead\n",
      "\n",
      "See the caveats in the documentation: http://pandas.pydata.org/pandas-docs/stable/indexing.html#indexing-view-versus-copy\n",
      "  This is separate from the ipykernel package so we can avoid doing imports until\n",
      "C:\\Users\\ccolam127\\AppData\\Local\\Continuum\\anaconda3\\lib\\site-packages\\ipykernel_launcher.py:5: SettingWithCopyWarning: \n",
      "A value is trying to be set on a copy of a slice from a DataFrame.\n",
      "Try using .loc[row_indexer,col_indexer] = value instead\n",
      "\n",
      "See the caveats in the documentation: http://pandas.pydata.org/pandas-docs/stable/indexing.html#indexing-view-versus-copy\n",
      "  \"\"\"\n"
     ]
    }
   ],
   "source": [
    "county_filtered['State_Composite_Score'] =  ( county_filtered['State_Roll_Score']\n",
    "                                             +county_filtered['State_7Day_New_Case_Rolling_Avg']\n",
    "                                             +county_filtered['State_7Day_Pos_Test_Avg'])\n",
    "\n",
    "county_filtered['County_Composite_Score'] = (county_filtered['County_Roll_Score'] + county_filtered['County_7Day_New_Case_Rolling_Avg'])\n",
    "\n"
   ]
  },
  {
   "cell_type": "code",
   "execution_count": 74,
   "metadata": {},
   "outputs": [
    {
     "name": "stderr",
     "output_type": "stream",
     "text": [
      "C:\\Users\\ccolam127\\AppData\\Local\\Continuum\\anaconda3\\lib\\site-packages\\ipykernel_launcher.py:38: SettingWithCopyWarning: \n",
      "A value is trying to be set on a copy of a slice from a DataFrame.\n",
      "Try using .loc[row_indexer,col_indexer] = value instead\n",
      "\n",
      "See the caveats in the documentation: http://pandas.pydata.org/pandas-docs/stable/indexing.html#indexing-view-versus-copy\n",
      "C:\\Users\\ccolam127\\AppData\\Local\\Continuum\\anaconda3\\lib\\site-packages\\ipykernel_launcher.py:39: SettingWithCopyWarning: \n",
      "A value is trying to be set on a copy of a slice from a DataFrame.\n",
      "Try using .loc[row_indexer,col_indexer] = value instead\n",
      "\n",
      "See the caveats in the documentation: http://pandas.pydata.org/pandas-docs/stable/indexing.html#indexing-view-versus-copy\n"
     ]
    }
   ],
   "source": [
    "#def county(n):\n",
    "#    if 0<=n<=.99: score = \"Minimal\"\n",
    "#    elif 0.1<=n<=1: score = \"Low\"\n",
    "#    elif 1<n<=2: score = \"Moderate\"\n",
    "#    elif 2<n<=3: score = \"Severe\"\n",
    "#    elif 4<=n<= 100: score = \"Extreme\"\n",
    "#    else: score = 0\n",
    "#    return(score)\n",
    "\n",
    "def county_hrvd(n):\n",
    "    if 0<=n<0.5: score = \"Minimal\"\n",
    "    elif 0.5<=n<1: score = \"Low\"\n",
    "    elif 1<=n<2: score = \"Moderate\"\n",
    "    elif 2<=n<3: score = \"Elevated\"\n",
    "    elif 3<=n<= 100: score = \"Critical\"\n",
    "    else: score = 0\n",
    "    return(score)\n",
    "\n",
    "\n",
    "def state(n):\n",
    "    if 0<=n<1: score = \"Minimal\"\n",
    "    elif 1<=n<2: score = \"Low\"\n",
    "    elif 2<=n<4: score = \"Moderate\"\n",
    "    elif 4<=n<6: score = \"Elevated\"\n",
    "    elif 6<=n<= 100: score = \"Critical\"\n",
    "    else: score = 0\n",
    "    return(score)\n",
    "\n",
    "#def blend(n):\n",
    "#    if 0<=n<=.99: score = \"Minimal\"\n",
    "#    elif 1<=n<=2: score = \"Low\"\n",
    "#    elif 3<=n<=4: score = \"Moderate\"\n",
    "#    elif 5<=n<=6: score = \"Severe\"\n",
    "#    elif 7 <=n<= 100: score = \"Extreme\"\n",
    "#    else: score = 0\n",
    "#    return(score)\n",
    "\n",
    "county_filtered['County_Level'] = county_filtered['County_Composite_Score'].apply(county_hrvd)\n",
    "county_filtered['State_Level'] = county_filtered['State_Composite_Score'].apply(state)\n",
    "#county_filtered['County_State_Blend'] = ((county_filtered['County_Composite_Score']+county_filtered['State_Composite_Score']))\n",
    "#county_filtered['County_State_Level'] = county_filtered['County_State_Blend'].apply(blend)\n",
    "\n",
    "\n"
   ]
  },
  {
   "cell_type": "code",
   "execution_count": 75,
   "metadata": {},
   "outputs": [
    {
     "name": "stdout",
     "output_type": "stream",
     "text": [
      "        County       State County_Level State_Level  County_Composite_Score  \\\n",
      "1  Los Angeles  California     Critical    Elevated                     3.5   \n",
      "2         Cook    Illinois     Moderate    Moderate                     1.5   \n",
      "3     Hansford       Texas     Moderate    Elevated                     1.0   \n",
      "4     Maricopa     Arizona     Critical    Critical                     3.5   \n",
      "5    San Diego  California     Elevated    Elevated                     2.5   \n",
      "\n",
      "   cur_7rollavg_cases     County Case Trend  Total CCC    CAE  Cable Stores  \\\n",
      "1           25.793415            Increasing       98.0    0.0           0.0   \n",
      "2            7.858174            Increasing     3640.0  356.0         201.0   \n",
      "3            7.937978  Decreasing or Steady        0.0    0.0           0.0   \n",
      "4           55.592894            Increasing        9.0    0.0           0.0   \n",
      "5           12.243076            Increasing       23.0    0.0           0.0   \n",
      "\n",
      "   Business Services  Tech Ops EE Count  \n",
      "1                2.0                0.0  \n",
      "2              146.0              965.0  \n",
      "3                0.0                0.0  \n",
      "4                3.0                0.0  \n",
      "5                0.0                0.0  \n"
     ]
    }
   ],
   "source": [
    "county_fields = county_filtered[[#'fips',\n",
    "    'County','State','County_Level', 'State_Level', 'County_Composite_Score',\n",
    "                                 'cur_7rollavg_cases','County Case Trend',                    \n",
    "                                 'Total CCC','CAE','Cable Stores','Business Services', 'Tech Ops EE Count']]\n",
    "\n",
    "print(county_fields.head())\n",
    "county_fields.to_csv(file,index=False) "
   ]
  },
  {
   "cell_type": "markdown",
   "metadata": {},
   "source": [
    "# Create State Only File "
   ]
  },
  {
   "cell_type": "code",
   "execution_count": 76,
   "metadata": {},
   "outputs": [],
   "source": [
    "#Merge state data with state base file \n",
    "\n",
    "state_active= pd.merge(state_pop_df,\n",
    "                 state_prevalence_grouped[['State','state_active',\n",
    "                                       ]],\n",
    "                 on='State', \n",
    "                how='left')\n",
    "\n",
    "\n",
    "state_current_w_pop = pd.merge(state_active,\n",
    "                 state_current_grouped[['State','state_curr7_case',\n",
    "                                       'state_curr7_death']],\n",
    "                 on='State', \n",
    "                how='left')\n",
    "\n",
    "\n",
    "state_df = pd.merge(state_current_w_pop,\n",
    "                 state_previous_grouped[['State','state_prev7_case','state_prev7_death']],\n",
    "                 on='State', \n",
    "                how='left')"
   ]
  },
  {
   "cell_type": "code",
   "execution_count": 77,
   "metadata": {},
   "outputs": [],
   "source": [
    "#Create State Level metrics\n",
    "\n",
    "state_df['state_curr7_case100k'] = ((state_df['state_curr7_case']/state_df['state_pop'])*100000)\n",
    "state_df['state_curr7_death100k'] = ((state_df['state_curr7_death']/state_df['state_pop'])*100000)\n",
    "state_df['state_prev7_case100k'] = ((state_df['state_prev7_case']/state_df['state_pop'])*100000)\n",
    "state_df['state_prev7_death100k'] = ((state_df['state_prev7_death']/state_df['state_pop'])*100000)\n",
    "\n",
    "\n",
    "state_df['state_roll7case_diff'] = ((state_df['state_curr7_case100k']-state_df['state_prev7_case100k'])/state_df['state_prev7_case100k'])\n",
    "state_df['state_roll7death_diff'] = ((state_df['state_curr7_death100k']-state_df['state_prev7_death100k'])/state_df['state_prev7_death100k'])\n",
    "state_df['state_prevalence_per100k'] = ((state_df['state_active']/state_df['state_pop'])*100000)\n",
    "\n"
   ]
  },
  {
   "cell_type": "code",
   "execution_count": 78,
   "metadata": {},
   "outputs": [],
   "source": [
    "# Merge in Covid Tracking Data\n",
    "\n",
    "\n",
    "curr_merge = pd.merge(state_df,\n",
    "                 curr_test_grouped[['state_code','curr_pos_%']],\n",
    "                 on='state_code', \n",
    "                how='left')\n",
    "\n",
    "state_mam_v2 = pd.merge(curr_merge,\n",
    "                 prev_test_grouped[['state_code','prev_pos_%']],\n",
    "                 on='state_code', \n",
    "                how='left')\n",
    "\n",
    "\n",
    "state_mam_v2['testing_diff'] = (state_mam_v2['curr_pos_%'] - state_mam_v2['prev_pos_%'])"
   ]
  },
  {
   "cell_type": "code",
   "execution_count": 79,
   "metadata": {},
   "outputs": [],
   "source": [
    "# State Level Scores\n",
    "\n",
    "\n",
    "state_mam_v2['State_Active_100k_Score'] = state_mam_v2['state_prevalence_per100k'].apply(active)\n",
    "state_mam_v2['State_Roll_Score'] = state_mam_v2['state_roll7case_diff'].apply(roll_hrvd_state)\n",
    "\n",
    "#state_mam_v2['State_Fatality_Roll_Score'] = state_mam_v2['state_roll7death_diff'].apply(fatal)\n",
    "#state_mam_v2['State_Testing_Score'] = state_mam_v2['testing_diff'].apply(test)\n",
    "\n",
    "state_mam_v2['State_7Day_Pos_Test_Avg'] = state_mam_v2['curr_pos_%'].apply(test7)\n",
    "state_mam_v2['State_7Day_New_Case_Rolling_Avg'] = state_mam_v2['state_curr7_case100k'].apply(curr7_hrvd)\n",
    "\n"
   ]
  },
  {
   "cell_type": "code",
   "execution_count": 80,
   "metadata": {},
   "outputs": [],
   "source": [
    "#Create final dataset\n",
    "\n",
    "state_mam_v2['State Composite Score'] =  (  state_mam_v2['State_Roll_Score']\n",
    "                                             + state_mam_v2['State_7Day_New_Case_Rolling_Avg']\n",
    "                                             +state_mam_v2['State_7Day_Pos_Test_Avg'])\n",
    "\n",
    "state_mam_v2['State Classification'] = state_mam_v2['State Composite Score'].apply(state)\n",
    "#state_mam_v2['Test_Change_Classification'] = state_mam_v2['State_Testing_Score'].apply(testch)\n",
    "\n",
    "\n",
    "\n",
    "final_state_df = state_mam_v2.query('comcast_state ==1')"
   ]
  },
  {
   "cell_type": "code",
   "execution_count": 81,
   "metadata": {},
   "outputs": [
    {
     "name": "stdout",
     "output_type": "stream",
     "text": [
      "        State State Classification  State Composite Score  \\\n",
      "0     Alabama             Elevated                      5   \n",
      "2     Arizona             Critical                      7   \n",
      "3    Arkansas             Moderate                      3   \n",
      "4  California             Elevated                      4   \n",
      "5    Colorado             Moderate                      3   \n",
      "\n",
      "   state_curr7_case100k  curr_pos_%  state_roll7case_diff  State_Roll_Score  \\\n",
      "0             22.639469    0.149095              0.405674                 1   \n",
      "2             47.365453    0.280260              0.226020                 1   \n",
      "3             18.328404    0.083636             -0.064539                 0   \n",
      "4             19.050128    0.071221              0.455149                 1   \n",
      "5              4.628693    0.048345              0.132775                 1   \n",
      "\n",
      "   State_7Day_Pos_Test_Avg  State_7Day_New_Case_Rolling_Avg  \\\n",
      "0                        2                                2   \n",
      "2                        3                                3   \n",
      "3                        1                                2   \n",
      "4                        1                                2   \n",
      "5                        1                                1   \n",
      "\n",
      "   Comcast Employees   CAE  Cable Stores  Business Services  Tech Ops  \n",
      "0                407    65            40                  9       178  \n",
      "2                744   237            17                  5        87  \n",
      "3                117     1            13                  7        64  \n",
      "4               5022     0           491                219      1997  \n",
      "5               8452  1206           246                709       763  \n"
     ]
    }
   ],
   "source": [
    "#Export State File to CSV\n",
    "\n",
    "final_state_df2 = final_state_df[['State', 'State Classification', 'State Composite Score','state_curr7_case100k','curr_pos_%',\n",
    "                                  'state_roll7case_diff', 'State_Roll_Score',\n",
    "                                 'State_7Day_Pos_Test_Avg','State_7Day_New_Case_Rolling_Avg',\n",
    "                                 'Comcast Employees','CAE','Cable Stores','Business Services', 'Tech Ops']]\n",
    "\n",
    "                                  \n",
    "print(final_state_df2.head())\n",
    "final_state_df2.to_csv(state_file, index=False) "
   ]
  },
  {
   "cell_type": "code",
   "execution_count": null,
   "metadata": {},
   "outputs": [],
   "source": []
  }
 ],
 "metadata": {
  "kernelspec": {
   "display_name": "Python 3",
   "language": "python",
   "name": "python3"
  },
  "language_info": {
   "codemirror_mode": {
    "name": "ipython",
    "version": 3
   },
   "file_extension": ".py",
   "mimetype": "text/x-python",
   "name": "python",
   "nbconvert_exporter": "python",
   "pygments_lexer": "ipython3",
   "version": "3.7.4"
  }
 },
 "nbformat": 4,
 "nbformat_minor": 2
}
