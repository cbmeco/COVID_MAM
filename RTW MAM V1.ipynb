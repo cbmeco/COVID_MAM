{
 "cells": [
  {
   "cell_type": "markdown",
   "metadata": {},
   "source": [
    "# RTW MAM Model V1 \n",
    "# County Data First"
   ]
  },
  {
   "cell_type": "code",
   "execution_count": 91,
   "metadata": {},
   "outputs": [],
   "source": [
    "import os\n",
    "import numpy as np\n",
    "import pandas as pd\n",
    "import matplotlib.pyplot as plt\n",
    "import json\n",
    "import csv\n",
    "import pickle"
   ]
  },
  {
   "cell_type": "code",
   "execution_count": 187,
   "metadata": {},
   "outputs": [],
   "source": [
    "#SET DATE FILTERS\n",
    "\n",
    "prevalence = ['2020-06-17','2020-06-16','2020-06-15','2020-06-14','2020-06-13','2020-06-12','2020-06-11','2020-06-10','2020-06-09','2020-06-08',\n",
    "              '2020-06-07','2020-06-06','2020-06-05','2020-06-04',]\n",
    "\n",
    "day7_current = ['2020-06-17','2020-06-16','2020-06-15','2020-06-14','2020-06-13','2020-06-12','2020-06-11',]\n",
    "\n",
    "day7_previous = ['2020-06-10','2020-06-09','2020-06-08','2020-06-07','2020-06-06','2020-06-05','2020-06-04']\n",
    "\n",
    "curr_test_start = [int(20200617)]\n",
    "curr_test_end = [int(20200611)]\n",
    "prev_test_start = [int(20200610)]\n",
    "prev_test_end = [int(20200604)]"
   ]
  },
  {
   "cell_type": "code",
   "execution_count": 107,
   "metadata": {},
   "outputs": [
    {
     "name": "stdout",
     "output_type": "stream",
     "text": [
      "    fips       county       state         pop\n",
      "1  53061    Snohomish  Washington    822083.0\n",
      "3  17031         Cook    Illinois   5150233.0\n",
      "5  06059       Orange  California   3175692.0\n",
      "7  04013     Maricopa     Arizona   4485414.0\n",
      "9  06037  Los Angeles  California  10039107.0\n"
     ]
    }
   ],
   "source": [
    "#Creating pop file\n",
    "#df = pd.read_csv(\"County4techs_4_15.csv\",names=[\"I\", \"day\", \"cases\", \"county\",\"state\",\"doubling\",\"fips\",\"pop\"],\n",
    "#                dtype={'fips': str})\n",
    "\n",
    "#df_filtered = df[(df.day==5)]\n",
    "#print(df.shape)\n",
    "\n",
    "#pop_df = df_filtered[['fips','county','state','pop' ]]\n",
    "#print(pop_df.head())\n",
    "\n",
    "#pickle.dump(pop_df, open(\"pop_df.sav\",\"wb\" ))"
   ]
  },
  {
   "cell_type": "code",
   "execution_count": 144,
   "metadata": {},
   "outputs": [
    {
     "name": "stdout",
     "output_type": "stream",
     "text": [
      "         date     county       state   fips  cases  deaths\n",
      "0  2020-01-21  Snohomish  Washington  53061      1       0\n",
      "1  2020-01-22  Snohomish  Washington  53061      1       0\n",
      "2  2020-01-23  Snohomish  Washington  53061      1       0\n",
      "3  2020-01-24       Cook    Illinois  17031      1       0\n",
      "4  2020-01-24  Snohomish  Washington  53061      1       0\n",
      "    fips       county       state         pop\n",
      "1  53061    Snohomish  Washington    822083.0\n",
      "3  17031         Cook    Illinois   5150233.0\n",
      "5  06059       Orange  California   3175692.0\n",
      "7  04013     Maricopa     Arizona   4485414.0\n",
      "9  06037  Los Angeles  California  10039107.0\n",
      "<class 'pandas.core.frame.DataFrame'>\n"
     ]
    }
   ],
   "source": [
    "#UPDATES NEEDED - bring in base file, within base file add in state 2 digit codes\n",
    "\n",
    "\n",
    "#Bring in County Data set\n",
    "nytimes = \"https://raw.githubusercontent.com/nytimes/covid-19-data/master/us-counties.csv\"\n",
    "counties = pd.read_csv(nytimes,dtype={'fips': str})\n",
    "print(nyt.head())\n",
    "\n",
    "#Change to own pop_df location\n",
    "pop_df = pickle.load(open(\"pop_df.sav\",\"rb\"))\n",
    "\n",
    "print(pop_df.head())\n",
    "print(type(pop_df))"
   ]
  },
  {
   "cell_type": "markdown",
   "metadata": {},
   "source": [
    "# Create Active Case Count"
   ]
  },
  {
   "cell_type": "code",
   "execution_count": 145,
   "metadata": {},
   "outputs": [
    {
     "name": "stdout",
     "output_type": "stream",
     "text": [
      "             date   county    state   fips  cases  deaths\n",
      "9480   2020-03-24  Autauga  Alabama  01001      1       0\n",
      "10832  2020-03-25  Autauga  Alabama  01001      4       0\n",
      "12361  2020-03-26  Autauga  Alabama  01001      6       0\n",
      "14021  2020-03-27  Autauga  Alabama  01001      6       0\n",
      "15801  2020-03-28  Autauga  Alabama  01001      6       0\n",
      "             date   county    state   fips  cases  deaths  case_diff  \\\n",
      "9480   2020-03-24  Autauga  Alabama  01001      1       0        NaN   \n",
      "10832  2020-03-25  Autauga  Alabama  01001      4       0        3.0   \n",
      "12361  2020-03-26  Autauga  Alabama  01001      6       0        2.0   \n",
      "14021  2020-03-27  Autauga  Alabama  01001      6       0        0.0   \n",
      "15801  2020-03-28  Autauga  Alabama  01001      6       0        0.0   \n",
      "\n",
      "       death_diff  \n",
      "9480          NaN  \n",
      "10832         0.0  \n",
      "12361         0.0  \n",
      "14021         0.0  \n",
      "15801         0.0  \n"
     ]
    }
   ],
   "source": [
    "#Create new cases field\n",
    "#Sort df by Fips and Date\n",
    "counties.sort_values(by=['fips','date'],inplace=True, ascending=True)\n",
    "print(counties.head())\n",
    "\n",
    "#Take difference between rows for new case and new death numbers\n",
    "counties['case_diff'] = counties.cases.diff()\n",
    "counties['death_diff'] = counties.deaths.diff()\n",
    "\n",
    "\n",
    "print(counties.head())"
   ]
  },
  {
   "cell_type": "code",
   "execution_count": 146,
   "metadata": {},
   "outputs": [
    {
     "name": "stdout",
     "output_type": "stream",
     "text": [
      "              date   county    state   fips  cases  deaths  case_diff  \\\n",
      "200589  2020-06-03  Autauga  Alabama  01001    240       5        0.0   \n",
      "203588  2020-06-04  Autauga  Alabama  01001    242       5        2.0   \n",
      "206590  2020-06-05  Autauga  Alabama  01001    249       5        7.0   \n",
      "209596  2020-06-06  Autauga  Alabama  01001    260       5       11.0   \n",
      "212603  2020-06-07  Autauga  Alabama  01001    266       5        6.0   \n",
      "215613  2020-06-08  Autauga  Alabama  01001    273       5        7.0   \n",
      "218625  2020-06-09  Autauga  Alabama  01001    283       5       10.0   \n",
      "221641  2020-06-10  Autauga  Alabama  01001    296       6       13.0   \n",
      "224663  2020-06-11  Autauga  Alabama  01001    316       6       20.0   \n",
      "227686  2020-06-12  Autauga  Alabama  01001    327       6       11.0   \n",
      "230711  2020-06-13  Autauga  Alabama  01001    335       6        8.0   \n",
      "233737  2020-06-14  Autauga  Alabama  01001    361       6       26.0   \n",
      "236764  2020-06-15  Autauga  Alabama  01001    368       6        7.0   \n",
      "239795  2020-06-16  Autauga  Alabama  01001    373       7        5.0   \n",
      "200590  2020-06-03  Baldwin  Alabama  01003    308       9        0.0   \n",
      "\n",
      "        death_diff  \n",
      "200589         0.0  \n",
      "203588         0.0  \n",
      "206590         0.0  \n",
      "209596         0.0  \n",
      "212603         0.0  \n",
      "215613         0.0  \n",
      "218625         0.0  \n",
      "221641         1.0  \n",
      "224663         0.0  \n",
      "227686         0.0  \n",
      "230711         0.0  \n",
      "233737         0.0  \n",
      "236764         0.0  \n",
      "239795         1.0  \n",
      "200590         0.0  \n"
     ]
    }
   ],
   "source": [
    "#Filter for past 14 days\n",
    "range_14 = counties[counties['date'].isin(prevalence)]\n",
    "print(range_14.head(15))"
   ]
  },
  {
   "cell_type": "code",
   "execution_count": 147,
   "metadata": {},
   "outputs": [
    {
     "name": "stdout",
     "output_type": "stream",
     "text": [
      "     fips  cases  deaths  case_diff  death_diff\n",
      "0   01001   4189      78      133.0         2.0\n",
      "1   01003   4852     126       81.0         0.0\n",
      "2   01005   2914      14       69.0         0.0\n",
      "3   01007   1292      14       37.0         0.0\n",
      "4   01009   1214      14       56.0         0.0\n",
      "5   01011   3562     114       96.0         3.0\n",
      "6   01013   6711     323      133.0         7.0\n",
      "7   01015   2654      43       33.0         1.0\n",
      "8   01017   5858     364      115.0         0.0\n",
      "9   01019    631      58       14.0         2.0\n",
      "10  01021   1736      25       36.0         1.0\n",
      "11  01023   2276     147       24.0         1.0\n",
      "12  01025   2342      37       46.0         1.0\n",
      "13  01027    411      28        2.0         0.0\n",
      "14  01029    260      14        7.0         0.0\n",
      "15  01031   3672      14       59.0         0.0\n",
      "16  01033   3225      58       86.0         3.0\n",
      "17  01035    939      14       68.0         0.0\n",
      "18  01037    590      14        6.0         0.0\n",
      "19  01039   1592      14       99.0         0.0\n",
      "20  01041   1364      42       35.0         0.0\n",
      "21  01043   3062      14      132.0         0.0\n",
      "22  01045   2102       0       60.0         0.0\n",
      "23  01047   5391      66      245.0         3.0\n",
      "24  01049   4073      58       79.0         2.0\n"
     ]
    }
   ],
   "source": [
    "#Group by FIPS, sum up new Cases for prevalence - for 7 day averages will take mean after filtering for 7 days\n",
    "prevalence_grouped = range_14.groupby(['fips'], as_index=False).sum()\n",
    "\n",
    "print(prevalence_grouped.head(25))"
   ]
  },
  {
   "cell_type": "code",
   "execution_count": 148,
   "metadata": {},
   "outputs": [
    {
     "name": "stdout",
     "output_type": "stream",
     "text": [
      "    fips         county          state         pop  case_diff\n",
      "0  53061      Snohomish     Washington    822083.0      202.0\n",
      "1  17031           Cook       Illinois   5150233.0     5865.0\n",
      "2  06059         Orange     California   3175692.0     2359.0\n",
      "3  04013       Maricopa        Arizona   4485414.0    10239.0\n",
      "4  06037    Los Angeles     California  10039107.0    17966.0\n",
      "5  06085    Santa Clara     California   1927852.0      435.0\n",
      "6  25025        Suffolk  Massachusetts    803907.0      731.0\n",
      "7  06075  San Francisco     California    881549.0      384.0\n",
      "8  55025           Dane      Wisconsin    546695.0      226.0\n",
      "9  06073      San Diego     California   3338330.0     2056.0\n"
     ]
    }
   ],
   "source": [
    "#Join in Prevalence to \n",
    "prevalence_w_pop = pd.merge(pop_df,\n",
    "                 prevalence_grouped[['fips','case_diff']],\n",
    "                 on='fips', \n",
    "                how='left')\n",
    "print(prevalence_w_pop.head(10))"
   ]
  },
  {
   "cell_type": "code",
   "execution_count": 149,
   "metadata": {},
   "outputs": [
    {
     "name": "stdout",
     "output_type": "stream",
     "text": [
      "    fips       county       state         pop  case_diff  active_cases_100k\n",
      "0  53061    Snohomish  Washington    822083.0      202.0          24.571728\n",
      "1  17031         Cook    Illinois   5150233.0     5865.0         113.878343\n",
      "2  06059       Orange  California   3175692.0     2359.0          74.283022\n",
      "3  04013     Maricopa     Arizona   4485414.0    10239.0         228.273243\n",
      "4  06037  Los Angeles  California  10039107.0    17966.0         178.960141\n"
     ]
    }
   ],
   "source": [
    "prevalence_w_pop['active_cases_100k'] = ((prevalence_w_pop['case_diff']/prevalence_w_pop['pop'])*100000)\n",
    "print(prevalence_w_pop.head())"
   ]
  },
  {
   "cell_type": "markdown",
   "metadata": {},
   "source": [
    "# Create 7 Day Rolling Avgs for Cases & Deaths"
   ]
  },
  {
   "cell_type": "code",
   "execution_count": 150,
   "metadata": {},
   "outputs": [
    {
     "name": "stdout",
     "output_type": "stream",
     "text": [
      "              date   county    state   fips  cases  deaths  case_diff  \\\n",
      "221641  2020-06-10  Autauga  Alabama  01001    296       6       13.0   \n",
      "224663  2020-06-11  Autauga  Alabama  01001    316       6       20.0   \n",
      "227686  2020-06-12  Autauga  Alabama  01001    327       6       11.0   \n",
      "230711  2020-06-13  Autauga  Alabama  01001    335       6        8.0   \n",
      "233737  2020-06-14  Autauga  Alabama  01001    361       6       26.0   \n",
      "\n",
      "        death_diff  \n",
      "221641         1.0  \n",
      "224663         0.0  \n",
      "227686         0.0  \n",
      "230711         0.0  \n",
      "233737         0.0  \n"
     ]
    }
   ],
   "source": [
    "#Filter Diff datasets for current and previous 7 day periods\n",
    "\n",
    "#join prev and current together with pop\n",
    "\n",
    "range_current7 = counties[counties['date'].isin(day7_current)]\n",
    "range_prev7 = counties[counties['date'].isin(day7_previous)]\n",
    "\n",
    "print(range_current7.head())"
   ]
  },
  {
   "cell_type": "code",
   "execution_count": 151,
   "metadata": {},
   "outputs": [
    {
     "name": "stdout",
     "output_type": "stream",
     "text": [
      "    fips       cases    deaths  case_diff  death_diff  curr7_case  curr7_death\n",
      "0  01001  339.428571  6.142857  12.857143    0.285714   12.857143     0.285714\n",
      "1  01003  371.285714  9.000000   7.000000    0.000000    7.000000     0.000000\n",
      "2  01005  227.285714  1.000000   6.428571    0.000000    6.428571     0.000000\n",
      "3  01007  103.571429  1.000000   4.000000    0.000000    4.000000     0.000000\n",
      "4  01009  102.857143  1.000000   6.285714    0.000000    6.285714     0.000000\n",
      "    fips       cases  deaths  case_diff  death_diff  prev7_case  prev7_death\n",
      "0  01001  259.000000     5.0   6.142857         0.0    6.142857          0.0\n",
      "1  01003  321.857143     9.0   4.571429         0.0    4.571429          0.0\n",
      "2  01005  189.000000     1.0   3.428571         0.0    3.428571          0.0\n",
      "3  01007   81.000000     1.0   1.285714         0.0    1.285714          0.0\n",
      "4  01009   70.571429     1.0   1.714286         0.0    1.714286          0.0\n"
     ]
    }
   ],
   "source": [
    "#Group by with mean\n",
    "current_grouped = range_current7.groupby(['fips'],as_index=False).mean()\n",
    "previous_grouped = range_prev7.groupby(['fips'], as_index=False).mean()\n",
    "\n",
    "current_grouped['curr7_case'] = current_grouped['case_diff']\n",
    "current_grouped['curr7_death'] = current_grouped['death_diff']\n",
    "previous_grouped['prev7_case'] = previous_grouped['case_diff']\n",
    "previous_grouped['prev7_death'] = previous_grouped['death_diff']\n",
    "print(current_grouped.head())\n",
    "print(previous_grouped.head())"
   ]
  },
  {
   "cell_type": "code",
   "execution_count": 152,
   "metadata": {},
   "outputs": [
    {
     "name": "stdout",
     "output_type": "stream",
     "text": [
      "    fips         county          state         pop   curr7_case  curr7_death\n",
      "0  53061      Snohomish     Washington    822083.0    12.857143     0.428571\n",
      "1  17031           Cook       Illinois   5150233.0   323.857143    34.714286\n",
      "2  06059         Orange     California   3175692.0   173.285714     6.857143\n",
      "3  04013       Maricopa        Arizona   4485414.0   914.428571     9.142857\n",
      "4  06037    Los Angeles     California  10039107.0  1323.142857    36.000000\n",
      "5  06085    Santa Clara     California   1927852.0    33.857143     0.428571\n",
      "6  25025        Suffolk  Massachusetts    803907.0    42.857143     2.428571\n",
      "7  06075  San Francisco     California    881549.0    25.428571     0.285714\n",
      "8  55025           Dane      Wisconsin    546695.0    16.285714     0.000000\n",
      "9  06073      San Diego     California   3338330.0   143.000000     1.571429\n",
      "    fips         county          state         pop   prev7_case  prev7_death\n",
      "0  53061      Snohomish     Washington    822083.0    16.000000     0.714286\n",
      "1  17031           Cook       Illinois   5150233.0   514.000000    40.571429\n",
      "2  06059         Orange     California   3175692.0   163.714286     5.000000\n",
      "3  04013       Maricopa        Arizona   4485414.0   548.285714     8.000000\n",
      "4  06037    Los Angeles     California  10039107.0  1243.428571    37.714286\n",
      "5  06085    Santa Clara     California   1927852.0    28.285714     0.714286\n",
      "6  25025        Suffolk  Massachusetts    803907.0    61.571429     4.714286\n",
      "7  06075  San Francisco     California    881549.0    29.428571     0.142857\n",
      "8  55025           Dane      Wisconsin    546695.0    16.000000     0.142857\n",
      "9  06073      San Diego     California   3338330.0   150.714286     0.000000\n"
     ]
    }
   ],
   "source": [
    "#Merge both sets with population\n",
    "current_w_pop = pd.merge(pop_df,\n",
    "                 current_grouped[['fips','curr7_case', 'curr7_death']],\n",
    "                 on='fips', \n",
    "                how='left')\n",
    "print(current_w_pop.head(10))\n",
    "\n",
    "previous_w_pop = pd.merge(pop_df,\n",
    "                 previous_grouped[['fips','prev7_case', 'prev7_death']],\n",
    "                 on='fips', \n",
    "                how='left')\n",
    "print(previous_w_pop.head(10))"
   ]
  },
  {
   "cell_type": "code",
   "execution_count": 153,
   "metadata": {},
   "outputs": [],
   "source": [
    "current_w_pop['cur_7rollavg_cases'] = ((current_w_pop['curr7_case']/current_w_pop['pop'])*100000)\n",
    "current_w_pop['cur_7rollavg_deaths'] = ((current_w_pop['curr7_death']/current_w_pop['pop'])*100000)"
   ]
  },
  {
   "cell_type": "code",
   "execution_count": 154,
   "metadata": {},
   "outputs": [],
   "source": [
    "previous_w_pop['prev_7rollavg_cases'] = ((previous_w_pop['prev7_case']/previous_w_pop['pop'])*100000)\n",
    "previous_w_pop['prev_7rollavg_deaths'] = ((previous_w_pop['prev7_death']/previous_w_pop['pop'])*100000)"
   ]
  },
  {
   "cell_type": "code",
   "execution_count": 155,
   "metadata": {},
   "outputs": [
    {
     "name": "stdout",
     "output_type": "stream",
     "text": [
      "    fips         county          state         pop  case_diff  \\\n",
      "0  53061      Snohomish     Washington    822083.0      202.0   \n",
      "1  17031           Cook       Illinois   5150233.0     5865.0   \n",
      "2  06059         Orange     California   3175692.0     2359.0   \n",
      "3  04013       Maricopa        Arizona   4485414.0    10239.0   \n",
      "4  06037    Los Angeles     California  10039107.0    17966.0   \n",
      "5  06085    Santa Clara     California   1927852.0      435.0   \n",
      "6  25025        Suffolk  Massachusetts    803907.0      731.0   \n",
      "7  06075  San Francisco     California    881549.0      384.0   \n",
      "8  55025           Dane      Wisconsin    546695.0      226.0   \n",
      "9  06073      San Diego     California   3338330.0     2056.0   \n",
      "\n",
      "   active_cases_100k  cur_7rollavg_cases  cur_7rollavg_deaths   curr7_case  \\\n",
      "0          24.571728            1.563971             0.052132    12.857143   \n",
      "1         113.878343            6.288204             0.674033   323.857143   \n",
      "2          74.283022            5.456628             0.215926   173.285714   \n",
      "3         228.273243           20.386715             0.203835   914.428571   \n",
      "4         178.960141           13.179886             0.358598  1323.142857   \n",
      "5          22.563973            1.756211             0.022231    33.857143   \n",
      "6          90.930916            5.331107             0.302096    42.857143   \n",
      "7          43.559689            2.884533             0.032410    25.428571   \n",
      "8          41.339321            2.978940             0.000000    16.285714   \n",
      "9          61.587680            4.283579             0.047072   143.000000   \n",
      "\n",
      "   curr7_death  \n",
      "0     0.428571  \n",
      "1    34.714286  \n",
      "2     6.857143  \n",
      "3     9.142857  \n",
      "4    36.000000  \n",
      "5     0.428571  \n",
      "6     2.428571  \n",
      "7     0.285714  \n",
      "8     0.000000  \n",
      "9     1.571429  \n"
     ]
    }
   ],
   "source": [
    "#Merge with prevalence dataset\n",
    "prev_curr = pd.merge(prevalence_w_pop,\n",
    "                 current_w_pop[['fips','cur_7rollavg_cases', 'cur_7rollavg_deaths','curr7_case','curr7_death']],\n",
    "                 on='fips', \n",
    "                how='left')\n",
    "print(prev_curr.head(10))"
   ]
  },
  {
   "cell_type": "code",
   "execution_count": 156,
   "metadata": {},
   "outputs": [
    {
     "name": "stdout",
     "output_type": "stream",
     "text": [
      "    fips         county          state         pop  case_diff  \\\n",
      "0  53061      Snohomish     Washington    822083.0      202.0   \n",
      "1  17031           Cook       Illinois   5150233.0     5865.0   \n",
      "2  06059         Orange     California   3175692.0     2359.0   \n",
      "3  04013       Maricopa        Arizona   4485414.0    10239.0   \n",
      "4  06037    Los Angeles     California  10039107.0    17966.0   \n",
      "5  06085    Santa Clara     California   1927852.0      435.0   \n",
      "6  25025        Suffolk  Massachusetts    803907.0      731.0   \n",
      "7  06075  San Francisco     California    881549.0      384.0   \n",
      "8  55025           Dane      Wisconsin    546695.0      226.0   \n",
      "9  06073      San Diego     California   3338330.0     2056.0   \n",
      "\n",
      "   active_cases_100k  cur_7rollavg_cases  cur_7rollavg_deaths   curr7_case  \\\n",
      "0          24.571728            1.563971             0.052132    12.857143   \n",
      "1         113.878343            6.288204             0.674033   323.857143   \n",
      "2          74.283022            5.456628             0.215926   173.285714   \n",
      "3         228.273243           20.386715             0.203835   914.428571   \n",
      "4         178.960141           13.179886             0.358598  1323.142857   \n",
      "5          22.563973            1.756211             0.022231    33.857143   \n",
      "6          90.930916            5.331107             0.302096    42.857143   \n",
      "7          43.559689            2.884533             0.032410    25.428571   \n",
      "8          41.339321            2.978940             0.000000    16.285714   \n",
      "9          61.587680            4.283579             0.047072   143.000000   \n",
      "\n",
      "   curr7_death  prev_7rollavg_cases  prev_7rollavg_deaths   prev7_case  \\\n",
      "0     0.428571             1.946275              0.086887    16.000000   \n",
      "1    34.714286             9.980131              0.787759   514.000000   \n",
      "2     6.857143             5.155232              0.157446   163.714286   \n",
      "3     9.142857            12.223748              0.178356   548.285714   \n",
      "4    36.000000            12.385848              0.375674  1243.428571   \n",
      "5     0.428571             1.467214              0.037051    28.285714   \n",
      "6     2.428571             7.659024              0.586422    61.571429   \n",
      "7     0.285714             3.338280              0.016205    29.428571   \n",
      "8     0.000000             2.926678              0.026131    16.000000   \n",
      "9     1.571429             4.514661              0.000000   150.714286   \n",
      "\n",
      "   prev7_death  \n",
      "0     0.714286  \n",
      "1    40.571429  \n",
      "2     5.000000  \n",
      "3     8.000000  \n",
      "4    37.714286  \n",
      "5     0.714286  \n",
      "6     4.714286  \n",
      "7     0.142857  \n",
      "8     0.142857  \n",
      "9     0.000000  \n"
     ]
    }
   ],
   "source": [
    "county_set = pd.merge(prev_curr,\n",
    "                 previous_w_pop[['fips','prev_7rollavg_cases', 'prev_7rollavg_deaths','prev7_case','prev7_death']],\n",
    "                 on='fips', \n",
    "                how='left')\n",
    "print(county_set.head(10))"
   ]
  },
  {
   "cell_type": "code",
   "execution_count": null,
   "metadata": {},
   "outputs": [],
   "source": [
    "#Create indicators for rolling averages\n",
    "county_set['roll7case_diff'] = ((county_set['cur_7rollavg_cases']-county_set['prev_7rollavg_cases'])/county_set['prev_7rollavg_cases'])\n",
    "county_set['roll7death_diff'] = ((county_set['cur_7rollavg_deaths']-county_set['prev_7rollavg_deaths'])/county_set['prev_7rollavg_deaths'])\n",
    "\n",
    "print(county_set.head())"
   ]
  },
  {
   "cell_type": "code",
   "execution_count": 158,
   "metadata": {},
   "outputs": [],
   "source": [
    "#Write to CSV\n",
    "#county_set.to_csv('CountyMAMV2_618.csv') "
   ]
  },
  {
   "cell_type": "markdown",
   "metadata": {},
   "source": [
    "# State Level Data"
   ]
  },
  {
   "cell_type": "code",
   "execution_count": 159,
   "metadata": {},
   "outputs": [],
   "source": [
    "# Pull in NYTimes state data, diff, do same 7 day rolling avg counts\n",
    "# pull in COVID tracking test data. calculate pos % then rolling avgs\n",
    "# Manually pull in Rt, might drop this metric"
   ]
  },
  {
   "cell_type": "code",
   "execution_count": 162,
   "metadata": {},
   "outputs": [
    {
     "name": "stdout",
     "output_type": "stream",
     "text": [
      "         date       state  fips  cases  deaths\n",
      "0  2020-01-21  Washington    53      1       0\n",
      "1  2020-01-22  Washington    53      1       0\n",
      "2  2020-01-23  Washington    53      1       0\n",
      "3  2020-01-24    Illinois    17      1       0\n",
      "4  2020-01-24  Washington    53      1       0\n"
     ]
    }
   ],
   "source": [
    "#Bring in state level NYT Data\n",
    "nytimes_state = \"https://raw.githubusercontent.com/nytimes/covid-19-data/master/us-states.csv\"\n",
    "state= pd.read_csv(nytimes_state)\n",
    "print(nyt_state.head())"
   ]
  },
  {
   "cell_type": "code",
   "execution_count": 164,
   "metadata": {},
   "outputs": [
    {
     "name": "stdout",
     "output_type": "stream",
     "text": [
      "           date    state  fips  cases  deaths  case_diff\n",
      "586  2020-03-13  Alabama     1      6       0        NaN\n",
      "637  2020-03-14  Alabama     1     12       0        6.0\n",
      "689  2020-03-15  Alabama     1     23       0       11.0\n",
      "742  2020-03-16  Alabama     1     29       0        6.0\n",
      "795  2020-03-17  Alabama     1     39       0       10.0\n",
      "           date    state  fips  cases  deaths  case_diff\n",
      "586  2020-03-13  Alabama     1      6       0        NaN\n",
      "637  2020-03-14  Alabama     1     12       0        6.0\n",
      "689  2020-03-15  Alabama     1     23       0       11.0\n",
      "742  2020-03-16  Alabama     1     29       0        6.0\n",
      "795  2020-03-17  Alabama     1     39       0       10.0\n"
     ]
    }
   ],
   "source": [
    "#Create new cases field\n",
    "#Sort df by Fips and Date\n",
    "state.sort_values(by=['fips','date'],inplace=True, ascending=True)\n",
    "print(state.head())\n",
    "\n",
    "#Take difference between rows for new case and new death numbers\n",
    "state['case_diff'] = state.cases.diff()\n",
    "print(state.head())"
   ]
  },
  {
   "cell_type": "code",
   "execution_count": 166,
   "metadata": {},
   "outputs": [
    {
     "name": "stdout",
     "output_type": "stream",
     "text": [
      "            date    state  fips  cases  deaths  case_diff\n",
      "5459  2020-06-10  Alabama     1  21989     744      567.0\n",
      "5514  2020-06-11  Alabama     1  22845     755      856.0\n",
      "5569  2020-06-12  Alabama     1  23710     769      865.0\n",
      "5624  2020-06-13  Alabama     1  24601     773      891.0\n",
      "5679  2020-06-14  Alabama     1  25615     773     1014.0\n",
      "5734  2020-06-15  Alabama     1  26272     774      657.0\n",
      "5789  2020-06-16  Alabama     1  26912     785      640.0\n",
      "5460  2020-06-10   Alaska     2    642       9       22.0\n"
     ]
    }
   ],
   "source": [
    "#Take Current and previous rolling averages\n",
    "state_range_current7 = state[state['date'].isin(day7_current)]\n",
    "state_range_prev7 = state[state['date'].isin(day7_previous)]\n",
    "\n",
    "print(state_range_current7.head(8))"
   ]
  },
  {
   "cell_type": "code",
   "execution_count": 167,
   "metadata": {},
   "outputs": [],
   "source": [
    "###PLACE HOLDER FOR MERGING TO BASE FILE####"
   ]
  },
  {
   "cell_type": "code",
   "execution_count": 176,
   "metadata": {},
   "outputs": [
    {
     "name": "stdout",
     "output_type": "stream",
     "text": [
      "       date state  positiveIncrease  negativeIncrease  \\\n",
      "0  20200618    AK                12              3464   \n",
      "1  20200618    AL               894             10917   \n",
      "2  20200618    AR               322              7413   \n",
      "3  20200618    AS                 0                 0   \n",
      "4  20200618    AZ              2519             11020   \n",
      "\n",
      "   totalTestResultsIncrease  \n",
      "0                      3476  \n",
      "1                     11811  \n",
      "2                      7735  \n",
      "3                         0  \n",
      "4                     13539  \n",
      "date                         int64\n",
      "state                       object\n",
      "positiveIncrease             int64\n",
      "negativeIncrease             int64\n",
      "totalTestResultsIncrease     int64\n",
      "dtype: object\n"
     ]
    }
   ],
   "source": [
    "#########################################\n",
    "#Bring in COVID TRACKING data\n",
    "url_all = \"https://covidtracking.com/api/v1/states/daily.csv\"\n",
    "testing_all = pd.read_csv(url_all)\n",
    "testing = testing_all[['date','state','positiveIncrease','negativeIncrease', 'totalTestResultsIncrease']]\n",
    "\n",
    "print(testing.head())\n",
    "print(testing.dtypes)"
   ]
  },
  {
   "cell_type": "code",
   "execution_count": 188,
   "metadata": {},
   "outputs": [
    {
     "name": "stdout",
     "output_type": "stream",
     "text": [
      "        date state  positiveIncrease  negativeIncrease  \\\n",
      "56  20200617    AK                20              1474   \n",
      "57  20200617    AL               400              4899   \n",
      "58  20200617    AR               415             14718   \n",
      "59  20200617    AS                 0                 0   \n",
      "60  20200617    AZ              1827             10032   \n",
      "61  20200617    CA              3455             56778   \n",
      "62  20200617    CO               143              3368   \n",
      "63  20200617    CT                80              6358   \n",
      "64  20200617    DC                29              2931   \n",
      "65  20200617    DE                41               472   \n",
      "\n",
      "    totalTestResultsIncrease  \n",
      "56                      1494  \n",
      "57                      5299  \n",
      "58                     15133  \n",
      "59                         0  \n",
      "60                     11859  \n",
      "61                     60233  \n",
      "62                      3511  \n",
      "63                      6438  \n",
      "64                      2960  \n",
      "65                       513  \n",
      "         date state  positiveIncrease  negativeIncrease  \\\n",
      "448  20200610    AK                20               810   \n",
      "449  20200610    AL               567              4751   \n",
      "450  20200610    AR               288             10148   \n",
      "451  20200610    AS                 0                 0   \n",
      "452  20200610    AZ              1556              4918   \n",
      "\n",
      "     totalTestResultsIncrease  \n",
      "448                       830  \n",
      "449                      5318  \n",
      "450                     10436  \n",
      "451                         0  \n",
      "452                      6474  \n"
     ]
    }
   ],
   "source": [
    "curr_testing = testing[(testing['date']>=curr_test_end) & (testing['date']<=curr_test_start)]\n",
    "print(curr_testing.head(10))\n",
    "\n",
    "prev_testing = testing[(testing['date']>=prev_test_end) & (testing['date']<=prev_test_start)]\n",
    "print(prev_testing.head())"
   ]
  },
  {
   "cell_type": "code",
   "execution_count": null,
   "metadata": {},
   "outputs": [],
   "source": []
  }
 ],
 "metadata": {
  "kernelspec": {
   "display_name": "Python 3",
   "language": "python",
   "name": "python3"
  },
  "language_info": {
   "codemirror_mode": {
    "name": "ipython",
    "version": 3
   },
   "file_extension": ".py",
   "mimetype": "text/x-python",
   "name": "python",
   "nbconvert_exporter": "python",
   "pygments_lexer": "ipython3",
   "version": "3.7.4"
  }
 },
 "nbformat": 4,
 "nbformat_minor": 2
}
