{
 "cells": [
  {
   "cell_type": "code",
   "execution_count": 1,
   "metadata": {},
   "outputs": [],
   "source": [
    "import pandas as pd"
   ]
  },
  {
   "cell_type": "code",
   "execution_count": 7,
   "metadata": {},
   "outputs": [
    {
     "name": "stdout",
     "output_type": "stream",
     "text": [
      "       date state  positive  negative  pending  hospitalizedCurrently  \\\n",
      "0  20200617    AK     696.0   77013.0      NaN                   23.0   \n",
      "1  20200617    AL   27312.0  283411.0      NaN                  677.0   \n",
      "2  20200617    AR   13606.0  207093.0      NaN                  217.0   \n",
      "3  20200617    AS       0.0     174.0      NaN                    NaN   \n",
      "4  20200617    AZ   40924.0  325269.0      NaN                 1582.0   \n",
      "\n",
      "   hospitalizedCumulative  inIcuCurrently  inIcuCumulative  \\\n",
      "0                     NaN             NaN              NaN   \n",
      "1                  2352.0             NaN            687.0   \n",
      "2                  1052.0             NaN              NaN   \n",
      "3                     NaN             NaN              NaN   \n",
      "4                  3861.0           531.0              NaN   \n",
      "\n",
      "   onVentilatorCurrently  ...    posNeg  deathIncrease hospitalizedIncrease  \\\n",
      "0                    0.0  ...     77709              0                    0   \n",
      "1                    NaN  ...    310723              5                   37   \n",
      "2                   53.0  ...    220699             15                   26   \n",
      "3                    NaN  ...       174              0                    0   \n",
      "4                  346.0  ...    366193             20                   53   \n",
      "\n",
      "                                       hash commercialScore  \\\n",
      "0  cb5c6333f1f29241387021d8d30f0c2efad0444c               0   \n",
      "1  bd6edf2bb5b10f200f5e0636f87da980ae88a0cc               0   \n",
      "2  495c9f3d841d3604de7679918df335e1e00594cf               0   \n",
      "3  ae7016ca13fb44fae5b144ee08a98c1775de6af9               0   \n",
      "4  2d9a7c73f8c0689a91a349f295295a3fa887e169               0   \n",
      "\n",
      "  negativeRegularScore  negativeScore  positiveScore score  grade  \n",
      "0                    0              0              0     0    NaN  \n",
      "1                    0              0              0     0    NaN  \n",
      "2                    0              0              0     0    NaN  \n",
      "3                    0              0              0     0    NaN  \n",
      "4                    0              0              0     0    NaN  \n",
      "\n",
      "[5 rows x 39 columns]\n"
     ]
    }
   ],
   "source": [
    "#COVID TRACKING PROJECT States Historical\n",
    "\n",
    "url_all = \"https://covidtracking.com/api/v1/states/daily.csv\"\n",
    "all_states = pd.read_csv(url_all)\n",
    "print(all_states.head())\n",
    "\n",
    "#Write to CSV\n",
    "all_states.to_csv('covid_tracking_states618.csv') "
   ]
  },
  {
   "cell_type": "code",
   "execution_count": 10,
   "metadata": {},
   "outputs": [
    {
     "name": "stdout",
     "output_type": "stream",
     "text": [
      "       date state  positive  negative  pending  hospitalizedCurrently  \\\n",
      "0  20200617    AK       696   77013.0      NaN                   23.0   \n",
      "1  20200617    AL     27312  283411.0      NaN                  677.0   \n",
      "2  20200617    AR     13606  207093.0      NaN                  217.0   \n",
      "3  20200617    AS         0     174.0      NaN                    NaN   \n",
      "4  20200617    AZ     40924  325269.0      NaN                 1582.0   \n",
      "\n",
      "   hospitalizedCumulative  inIcuCurrently  inIcuCumulative  \\\n",
      "0                     NaN             NaN              NaN   \n",
      "1                  2352.0             NaN            687.0   \n",
      "2                  1052.0             NaN              NaN   \n",
      "3                     NaN             NaN              NaN   \n",
      "4                  3861.0           531.0              NaN   \n",
      "\n",
      "   onVentilatorCurrently  ...    posNeg  deathIncrease hospitalizedIncrease  \\\n",
      "0                    0.0  ...     77709              0                    0   \n",
      "1                    NaN  ...    310723              5                   37   \n",
      "2                   53.0  ...    220699             15                   26   \n",
      "3                    NaN  ...       174              0                    0   \n",
      "4                  346.0  ...    366193             20                   53   \n",
      "\n",
      "                                       hash commercialScore  \\\n",
      "0  cb5c6333f1f29241387021d8d30f0c2efad0444c               0   \n",
      "1  bd6edf2bb5b10f200f5e0636f87da980ae88a0cc               0   \n",
      "2  495c9f3d841d3604de7679918df335e1e00594cf               0   \n",
      "3  ae7016ca13fb44fae5b144ee08a98c1775de6af9               0   \n",
      "4  2d9a7c73f8c0689a91a349f295295a3fa887e169               0   \n",
      "\n",
      "  negativeRegularScore  negativeScore  positiveScore score  grade  \n",
      "0                    0              0              0     0    NaN  \n",
      "1                    0              0              0     0    NaN  \n",
      "2                    0              0              0     0    NaN  \n",
      "3                    0              0              0     0    NaN  \n",
      "4                    0              0              0     0    NaN  \n",
      "\n",
      "[5 rows x 39 columns]\n"
     ]
    }
   ],
   "source": [
    "#COVID TRACKING PROJECT States Current\n",
    "url_all = \"https://covidtracking.com/api/v1/states/current.csv\"\n",
    "states_curr = pd.read_csv(url_all)\n",
    "print(states_curr.head())\n",
    "\n",
    "#Write to CSV\n",
    "states_curr.to_csv('covid_tracking_states_current618.csv') "
   ]
  },
  {
   "cell_type": "code",
   "execution_count": 11,
   "metadata": {},
   "outputs": [
    {
     "name": "stdout",
     "output_type": "stream",
     "text": [
      "         date     county       state     fips  cases  deaths\n",
      "0  2020-01-21  Snohomish  Washington  53061.0      1       0\n",
      "1  2020-01-22  Snohomish  Washington  53061.0      1       0\n",
      "2  2020-01-23  Snohomish  Washington  53061.0      1       0\n",
      "3  2020-01-24       Cook    Illinois  17031.0      1       0\n",
      "4  2020-01-24  Snohomish  Washington  53061.0      1       0\n"
     ]
    }
   ],
   "source": [
    "#NYTIMES COUNTY DATASET\n",
    "nytimes = \"https://raw.githubusercontent.com/nytimes/covid-19-data/master/us-counties.csv\"\n",
    "nyt = pd.read_csv(nytimes)\n",
    "print(nyt.head())\n",
    "#Write to CSV\n",
    "nyt.to_csv('NytCounties618.csv') "
   ]
  },
  {
   "cell_type": "code",
   "execution_count": 6,
   "metadata": {},
   "outputs": [
    {
     "name": "stdout",
     "output_type": "stream",
     "text": [
      "         date       state  fips  cases  deaths\n",
      "0  2020-01-21  Washington    53      1       0\n",
      "1  2020-01-22  Washington    53      1       0\n",
      "2  2020-01-23  Washington    53      1       0\n",
      "3  2020-01-24    Illinois    17      1       0\n",
      "4  2020-01-24  Washington    53      1       0\n"
     ]
    }
   ],
   "source": [
    "#NYTIMES STATE DATASET\n",
    "nytimes_state = \"https://raw.githubusercontent.com/nytimes/covid-19-data/master/us-states.csv\"\n",
    "nyt_state= pd.read_csv(nytimes_state)\n",
    "print(nyt_state.head())"
   ]
  },
  {
   "cell_type": "code",
   "execution_count": null,
   "metadata": {},
   "outputs": [],
   "source": []
  }
 ],
 "metadata": {
  "kernelspec": {
   "display_name": "Python 3",
   "language": "python",
   "name": "python3"
  },
  "language_info": {
   "codemirror_mode": {
    "name": "ipython",
    "version": 3
   },
   "file_extension": ".py",
   "mimetype": "text/x-python",
   "name": "python",
   "nbconvert_exporter": "python",
   "pygments_lexer": "ipython3",
   "version": "3.7.4"
  }
 },
 "nbformat": 4,
 "nbformat_minor": 2
}
